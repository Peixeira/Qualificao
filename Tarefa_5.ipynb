{
  "nbformat": 4,
  "nbformat_minor": 0,
  "metadata": {
    "colab": {
      "name": "Tarefa_5.ipynb",
      "provenance": [],
      "collapsed_sections": [],
      "authorship_tag": "ABX9TyOiCDOAYYcoi0OZDR/LieDH",
      "include_colab_link": true
    },
    "kernelspec": {
      "name": "python3",
      "display_name": "Python 3"
    },
    "language_info": {
      "name": "python"
    }
  },
  "cells": [
    {
      "cell_type": "markdown",
      "metadata": {
        "id": "view-in-github",
        "colab_type": "text"
      },
      "source": [
        "<a href=\"https://colab.research.google.com/github/Peixeira/Qualificao/blob/main/Tarefa_5.ipynb\" target=\"_parent\"><img src=\"https://colab.research.google.com/assets/colab-badge.svg\" alt=\"Open In Colab\"/></a>"
      ]
    },
    {
      "cell_type": "markdown",
      "metadata": {
        "id": "ih4JD_WuKjKq"
      },
      "source": [
        "<center> <b> <font size=\"+2\"> Otimização\n",
        " </font> </b> </center>\n",
        "\n",
        "<center>  <font size=\"+2\"> Arthur Silva Barbosa - 8954937\n",
        " </font>  </center>"
      ]
    },
    {
      "cell_type": "code",
      "metadata": {
        "id": "B-FA0ZY9KijK"
      },
      "source": [
        "#Bibliotecas utilizadas:\n",
        "from google.colab import files\n",
        "from IPython import display\n",
        "from scipy.optimize import linprog\n",
        "import numpy as np"
      ],
      "execution_count": 73,
      "outputs": []
    },
    {
      "cell_type": "markdown",
      "metadata": {
        "id": "6r9QVS1JKpo5"
      },
      "source": [
        "**Tarefa 5 :**\n",
        "\n",
        "**Achar o passo ótimo da Rosenbrock no ponto (0,0) direção (2,0) utilizando o método quasi-newton (vai precisar programa-lo, mas pode usar o ROSEN1D_Newton de base).**\n"
      ]
    },
    {
      "cell_type": "markdown",
      "metadata": {
        "id": "ZBCg4Km6ylWv"
      },
      "source": [
        "O código abaixo refere-se à implementação através do método de Newton.\n",
        "Devemos perceber que as derivadas foram obtidas analiticamente, para então serem usadas no algoritmo. "
      ]
    },
    {
      "cell_type": "code",
      "metadata": {
        "colab": {
          "base_uri": "https://localhost:8080/"
        },
        "id": "ZRVQuOK5Ky5G",
        "outputId": "dc96cfe5-fa75-48c1-d88b-5fc869ea3d73"
      },
      "source": [
        "#Método de Newton\n",
        "\n",
        "\n",
        "#considerando xi = x0 + x*S0\n",
        "#x0 = np.array([0, 0])\n",
        "\n",
        "#gradiente\n",
        "#S0 = np.array([2, 0])\n",
        "\n",
        "#100*(xi[1] - xi[0]**2)**2 + (1 - xi[0])**2\n",
        "# resulta em f1_alt=1600*x.^4+4*x.^2-4*x+1\n",
        "\n",
        "def func(x):\n",
        "  return 1600*x**4 + 4*x**2 - 4*x + 1\n",
        "\n",
        "def dfunc(x):\n",
        "  return 6400*x**3 + 8*x - 4\n",
        "\n",
        "def ddfunc(x):\n",
        "  return 19200*x**2 + 8\n",
        "\n",
        "def newton(x):\n",
        "  i = 0\n",
        "  while ((dfunc(x)) >= 0.0001):\n",
        "    x = x - dfunc(x)/ddfunc(x)\n",
        "    i = i + 1\n",
        "  return x\n",
        "\n",
        "# Valores iniciais\n",
        "\n",
        "# chute inicial\n",
        "lamb0 = 0.7\n",
        "\n",
        "lamb = newton(lamb0)\n",
        "f = func(lamb)\n",
        "print(\"O valor do passo calculado por Newton: \")\n",
        "print(lamb)\n",
        "print(\"O valor da função nesse passo: \")\n",
        "print(f)"
      ],
      "execution_count": 74,
      "outputs": [
        {
          "output_type": "stream",
          "name": "stdout",
          "text": [
            "O valor do passo calculado por Newton: \n",
            "0.08063153998159106\n",
            "O valor da função nesse passo: \n",
            "0.7711096853626971\n"
          ]
        }
      ]
    },
    {
      "cell_type": "markdown",
      "metadata": {
        "id": "IarxvhTKzgRJ"
      },
      "source": [
        "A implementação do método de Quasi - Newton difere do programa anterior no cálculo das derivadas. Neste algorítimo, as derivadas foram calculadas numericamente, e serão tão mais precisas quanto deseja-se aproximar seus resultados da derivada real. "
      ]
    },
    {
      "cell_type": "code",
      "metadata": {
        "colab": {
          "base_uri": "https://localhost:8080/"
        },
        "id": "_9J8B_Z5XD9X",
        "outputId": "cb6d09f2-15dc-4a0d-e797-bede6babb8be"
      },
      "source": [
        "#Método de Quasi - Newton\n",
        "\n",
        "\n",
        "#considerando xi = x0 + x*S0\n",
        "#x0 = np.array([0, 0])\n",
        "\n",
        "#gradiente\n",
        "#S0 = np.array([2, 0])\n",
        "\n",
        "\n",
        "#100*(xi[1] - xi[0]**2)**2 + (1 - xi[0])**2\n",
        "# resulta em f1_alt=1600*x.^4+4*x.^2-4*x+1\n",
        "\n",
        "def func(x):\n",
        "  return 1600*x**4 + 4*x**2 - 4*x + 1\n",
        "\n",
        "def dfunc(x):\n",
        "  h = 0.01\n",
        "  return (func(x+h) - func(x-h))/2*h\n",
        "\n",
        "def ddfunc(x):\n",
        "  h = 0.01\n",
        "  return (func(x+h)- 2*func(x) + func(x-h))/h**2\n",
        "\n",
        "def newton(x):\n",
        "  i = 0\n",
        "  while ((dfunc(x)) >= 0.0001):\n",
        "    x = x - dfunc(x)/ddfunc(x)\n",
        "    i = i + 1\n",
        "  return x\n",
        "\n",
        "# Valores iniciais\n",
        "\n",
        "# chute inicial\n",
        "lamb0 = 0.7\n",
        "\n",
        "\n",
        "lamb = newton(lamb0)\n",
        "f = func(lamb)\n",
        "print(\"O valor do passo calculado por Quasi - Newton: \")\n",
        "print(lamb)\n",
        "print(\"O valor da função nesse passo: \")\n",
        "print(f)"
      ],
      "execution_count": 75,
      "outputs": [
        {
          "output_type": "stream",
          "name": "stdout",
          "text": [
            "O valor do passo calculado por Quasi - Newton: \n",
            "0.08721943171214279\n",
            "O valor da função nesse passo: \n",
            "0.7741430896462549\n"
          ]
        }
      ]
    }
  ]
}