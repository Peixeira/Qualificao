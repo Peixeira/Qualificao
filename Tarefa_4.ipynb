{
  "nbformat": 4,
  "nbformat_minor": 0,
  "metadata": {
    "colab": {
      "name": "Tarefa_4.ipynb",
      "provenance": [],
      "authorship_tag": "ABX9TyNju34T3qKc2E1oI+LvQLF+",
      "include_colab_link": true
    },
    "kernelspec": {
      "name": "python3",
      "display_name": "Python 3"
    },
    "language_info": {
      "name": "python"
    }
  },
  "cells": [
    {
      "cell_type": "markdown",
      "metadata": {
        "id": "view-in-github",
        "colab_type": "text"
      },
      "source": [
        "<a href=\"https://colab.research.google.com/github/Peixeira/Qualificao/blob/main/Tarefa_4.ipynb\" target=\"_parent\"><img src=\"https://colab.research.google.com/assets/colab-badge.svg\" alt=\"Open In Colab\"/></a>"
      ]
    },
    {
      "cell_type": "markdown",
      "metadata": {
        "id": "CwaOPI74TSXi"
      },
      "source": [
        "<center> <b> <font size=\"+2\"> Otimização\n",
        " </font> </b> </center>\n",
        "\n",
        "<center>  <font size=\"+2\"> Arthur Silva Barbosa - 8954937\n",
        " </font>  </center>"
      ]
    },
    {
      "cell_type": "code",
      "metadata": {
        "id": "tr0nwbsKWg3b"
      },
      "source": [
        "#Bibliotecas utilizadas:\n",
        "from google.colab import files\n",
        "from IPython import display\n",
        "from scipy.optimize import linprog\n",
        "import numpy as np"
      ],
      "execution_count": 15,
      "outputs": []
    },
    {
      "cell_type": "markdown",
      "metadata": {
        "id": "Raua7uhUTWz8"
      },
      "source": [
        "**Tarefa 4 :**\n",
        "\n",
        "**Usar o exemplo escolhido na Tarefa 3 e resolvê-lo com os Método Simplex Revisado e Método do Interior no ambiente que preferir.**\n",
        "\n",
        "Problema escolhido na tarefa 3:    **3.93**\n",
        "\n",
        "A função que desejamos maximizar é a função **L** e pode ser expressa por: \n",
        "\n",
        "$L = 4x_1 + 2x_2 + 3x_3$,\n",
        "\n",
        "submetida às seguintes restrições: \n",
        "\n",
        "\n",
        "* $10x_1 + 6x_2 + 12x_3 \\leq1200$\n",
        "* $8x_1 + 4x_2 + 4x_3\\leq1000$\n",
        "* 0$\\leq x_1 \\leq 500$\n",
        "* 0$\\leq x_2 \\leq 400$\n",
        "* 0$\\leq x_3 \\leq 600$\n",
        "\n",
        "Todas as condições apara o algorítimo Simplex foram satisfeiras, contudo, o uso do algorítmo visa minimizar uma função, ou seja, minimizar a função $-L$\n",
        "(a dedução de **L** pode ser encontrada no envio da Tarefa 3)."
      ]
    },
    {
      "cell_type": "markdown",
      "metadata": {
        "id": "KVqfb2i2VMac"
      },
      "source": [
        "# Modelagem"
      ]
    },
    {
      "cell_type": "code",
      "metadata": {
        "id": "UVog463yVJR6"
      },
      "source": [
        "#Função objetivo\n",
        "c = [-4, -2, -3]\n",
        "\n",
        "#Restrições de inequação\n",
        "A_ub = [[10, 6, 12],[8, 4, 4],[1, 0, 0],[0, 1, 0],[0, 0, 1]]\n",
        "b_ub = [1200, 1000, 500, 400, 600]\n",
        "\n",
        "#Restrições de Equação: \n",
        "A_eq = None\n",
        "b_eq = None\n",
        "\n",
        "#Limites das variáveis (que já foram tratadas nas inequações)\n",
        "x1_bounds = (0,None)\n",
        "x2_bounds = (0,None)\n",
        "x3_bounds = (0,None)"
      ],
      "execution_count": 16,
      "outputs": []
    },
    {
      "cell_type": "markdown",
      "metadata": {
        "id": "ZrrhNJiHUuqx"
      },
      "source": [
        "# Resolução pelo Método Simplex Revisado"
      ]
    },
    {
      "cell_type": "code",
      "metadata": {
        "colab": {
          "base_uri": "https://localhost:8080/"
        },
        "id": "oi2BNjAtTPcZ",
        "outputId": "4bd2ff3c-5fa9-4abc-fd04-989ae9b929c8"
      },
      "source": [
        "#atenção à escolha do métdodo: method='revised simplex'\n",
        "res = linprog(c, A_ub=A_ub, b_ub=b_ub, A_eq=A_eq, b_eq=b_eq, bounds=[x1_bounds, x2_bounds, x3_bounds], method='revised simplex')\n",
        "\n",
        "print(res)"
      ],
      "execution_count": 17,
      "outputs": [
        {
          "output_type": "stream",
          "text": [
            "     con: array([], dtype=float64)\n",
            "     fun: -480.0\n",
            " message: 'Optimization terminated successfully.'\n",
            "     nit: 1\n",
            "   slack: array([  0.,  40., 380., 400., 600.])\n",
            "  status: 0\n",
            " success: True\n",
            "       x: array([120.,   0.,   0.])\n"
          ],
          "name": "stdout"
        }
      ]
    },
    {
      "cell_type": "markdown",
      "metadata": {
        "id": "1QJsiLooU1kJ"
      },
      "source": [
        "# Resolução pelo Método do Interior"
      ]
    },
    {
      "cell_type": "code",
      "metadata": {
        "colab": {
          "base_uri": "https://localhost:8080/"
        },
        "id": "QDQ5QhWsU7uM",
        "outputId": "8d505594-028b-4e8d-fef6-3fee7aee3f8e"
      },
      "source": [
        "#atenção à escolha do métdodo: method='interior-point'\n",
        "res = linprog(c, A_ub=A_ub, b_ub=b_ub, A_eq=A_eq, b_eq=b_eq, bounds=[x1_bounds, x2_bounds, x3_bounds], method='interior-point')\n",
        "\n",
        "print(res)"
      ],
      "execution_count": 18,
      "outputs": [
        {
          "output_type": "stream",
          "text": [
            "     con: array([], dtype=float64)\n",
            "     fun: -479.9999980989889\n",
            " message: 'Optimization terminated successfully.'\n",
            "     nit: 6\n",
            "   slack: array([4.71862882e-06, 4.00000038e+01, 3.80000000e+02, 4.00000000e+02,\n",
            "       6.00000000e+02])\n",
            "  status: 0\n",
            " success: True\n",
            "       x: array([1.20000000e+02, 2.07382667e-08, 2.92461285e-09])\n"
          ],
          "name": "stdout"
        },
        {
          "output_type": "stream",
          "text": [
            "/usr/local/lib/python3.7/dist-packages/numpy/core/fromnumeric.py:87: VisibleDeprecationWarning: Creating an ndarray from ragged nested sequences (which is a list-or-tuple of lists-or-tuples-or ndarrays with different lengths or shapes) is deprecated. If you meant to do this, you must specify 'dtype=object' when creating the ndarray\n",
            "  return ufunc.reduce(obj, axis, dtype, out, **passkwargs)\n"
          ],
          "name": "stderr"
        }
      ]
    },
    {
      "cell_type": "markdown",
      "metadata": {
        "id": "WSJYLXUYU-sH"
      },
      "source": [
        "# Comparação entre os métodos"
      ]
    },
    {
      "cell_type": "markdown",
      "metadata": {
        "id": "XvCwLtq3Y08K"
      },
      "source": [
        "Como pode ser observado, a utilização do método é fundamental para o custo \n",
        "computacional do problema de otimização. Problemas mais complexos (com alto \n",
        "número de varíaveis e/ou restrições) podem demandar métodos mais eficientes.\n",
        "\n",
        "Na tarefa anterior, vimos a aplicação do método simplex:"
      ]
    },
    {
      "cell_type": "code",
      "metadata": {
        "colab": {
          "base_uri": "https://localhost:8080/"
        },
        "id": "s8AjYcPYVFaI",
        "outputId": "4b44db9b-5e3b-4106-bbf6-d0b1718bb302"
      },
      "source": [
        "#atenção à escolha do métdodo: method='simplex'\n",
        "res = linprog(c, A_ub=A_ub, b_ub=b_ub, A_eq=A_eq, b_eq=b_eq, bounds=[x1_bounds, x2_bounds, x3_bounds], method='simplex')\n",
        "\n",
        "print(res)"
      ],
      "execution_count": 19,
      "outputs": [
        {
          "output_type": "stream",
          "text": [
            "     con: array([], dtype=float64)\n",
            "     fun: -480.0\n",
            " message: 'Optimization terminated successfully.'\n",
            "     nit: 5\n",
            "   slack: array([  0.,  40., 380., 400., 600.])\n",
            "  status: 0\n",
            " success: True\n",
            "       x: array([120.,   0.,   0.])\n"
          ],
          "name": "stdout"
        }
      ]
    },
    {
      "cell_type": "markdown",
      "metadata": {
        "id": "6lmmFKGyY7hh"
      },
      "source": [
        "O método que apresentou o menor número de iterações foi o simplex revisado, com **nit = 1**. \n",
        "\n",
        "Os outros dois métodos apresentaram **nit = 6** (interior-point) e **nit = 5** (simplex).\n",
        "\n",
        "Os métodos convergiram para o mesmo ponto, entretanto, deve-se ressaltar que o método interior-point pressupôem um erro aceitável em sua otimização, que difere o ponto ótimo na magnitude desse erro."
      ]
    }
  ]
}