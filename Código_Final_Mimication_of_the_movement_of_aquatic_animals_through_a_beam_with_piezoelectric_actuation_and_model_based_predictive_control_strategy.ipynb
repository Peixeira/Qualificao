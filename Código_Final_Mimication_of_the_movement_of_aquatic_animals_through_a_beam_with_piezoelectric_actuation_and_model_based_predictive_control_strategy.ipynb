{
  "nbformat": 4,
  "nbformat_minor": 0,
  "metadata": {
    "colab": {
      "name": " Código Final -  Mimication of the movement of aquatic animals through a beam with piezoelectric actuation and model-based predictive control strategy.ipynb",
      "provenance": [],
      "collapsed_sections": [
        "pm0RM6Eog7Tz"
      ]
    },
    "kernelspec": {
      "display_name": "Python 3",
      "name": "python3"
    }
  },
  "cells": [
    {
      "cell_type": "markdown",
      "metadata": {
        "id": "zMedPV7GJ5fC"
      },
      "source": [
        "<center> <b> <font size=\"+2\"> MPC Control Applied to an Euler-Bernoulli Beam with piezoelectric actuation\r\n",
        " </font> </b> </center>\r\n",
        "\r\n",
        "<center> <i> Conditions: Free-Free or Clamped-Free </i> </center>\r\n",
        "<center> <i> Enviromments: Air or another fluid </i> </center>\r\n",
        "<center> <i> Moving Reference </i> </center>\r\n"
      ]
    },
    {
      "cell_type": "markdown",
      "metadata": {
        "id": "sJlmpfoHKcEN"
      },
      "source": [
        "# **Libraries used**"
      ]
    },
    {
      "cell_type": "code",
      "metadata": {
        "id": "p0se6gFxKaLY"
      },
      "source": [
        "from sympy import *\r\n",
        "import numpy as np\r\n",
        "import matplotlib.pyplot as plt\r\n",
        "from sympy.solvers import solve, nsolve\r\n",
        "from sympy import Symbol, symbols, cos, cosh, sin, sinh\r\n",
        "from sympy.interactive import init_printing\r\n",
        "from mpl_toolkits.mplot3d import Axes3D  \r\n",
        "from matplotlib import cm\r\n",
        "from matplotlib.ticker import LinearLocator, FormatStrFormatter\r\n",
        "import scipy as sp\r\n",
        "import scipy.sparse as sparse\r\n",
        "import osqp\r\n",
        "import warnings\r\n",
        "import sys\r\n",
        "import time\r\n",
        "from scipy.integrate import ode\r\n",
        "import matplotlib.animation as animation\r\n",
        "from matplotlib.animation import FuncAnimation\r\n"
      ],
      "execution_count": null,
      "outputs": []
    },
    {
      "cell_type": "code",
      "metadata": {
        "id": "HmeVobrrXffC"
      },
      "source": [
        "init_printing(pretty_print=true)"
      ],
      "execution_count": null,
      "outputs": []
    },
    {
      "cell_type": "markdown",
      "metadata": {
        "id": "8Hicmv3mdl0g"
      },
      "source": [
        "# **Choice of structure**"
      ]
    },
    {
      "cell_type": "markdown",
      "metadata": {
        "id": "vJlpiT5bdzZ1"
      },
      "source": [
        "*   Beam - Euller Bernoulli = 1\r\n",
        "*   Beam - optimized = 0"
      ]
    },
    {
      "cell_type": "code",
      "metadata": {
        "id": "aZDN7JrEdxfF"
      },
      "source": [
        "choice_structure = 0"
      ],
      "execution_count": null,
      "outputs": []
    },
    {
      "cell_type": "markdown",
      "metadata": {
        "id": "PAsgoPN1XX8f"
      },
      "source": [
        "# **Design parameters**"
      ]
    },
    {
      "cell_type": "code",
      "metadata": {
        "id": "FNUdcL8UXcyC"
      },
      "source": [
        "# Parameters - PVC\r\n",
        "# Structure                        \r\n",
        "L   = 0.40;         # Length                                              [m]\r\n",
        "b   = 20e-3;        # Width                                               [m]\r\n",
        "h   = 0.3e-3;       # hickness substructure                               [m]\r\n",
        "rho = 1340;         # Density                                         [kg/m³]\r\n",
        "E   = 3e9;          # Elas. Module of substructure                       [Pa]\r\n",
        "m   = b*h*rho       # Mass per length unit without coupled masses      [kg/m]\r\n",
        "m1  = L*5*m;        # Concentrated mass  (x=0)                           [kg]\r\n",
        "m2  = L*m/5;        # Concentrated mass  (x=L)                           [kg]\r\n",
        "I   = b*(h**3)/12;  # Moment of inertia                                  [m4]\r\n",
        "E_t = E*I\r\n",
        "                    \r\n",
        "# Fluid\r\n",
        "phoa = 1000         # Density                                         [kg/m³]\r\n",
        "cm = 1              # Coefficient of inertia                  [dimensionless]\r\n",
        "cd = 20             # Drag coefficient                        [dimensionless]\r\n",
        "\r\n",
        "# MFC M-2814-P1  - d33  \r\n",
        "hp = 0.3e-3                       # Piezoelectric fiber thickness         [m]\r\n",
        "Lp = 40e-3                        # Total length of the MFC               [m]\r\n",
        "coupling = ( 1 +  (h/hp) )*2e-6   # Electromechanical coupling         [Nm/V]"
      ],
      "execution_count": null,
      "outputs": []
    },
    {
      "cell_type": "code",
      "metadata": {
        "id": "1hTJnbSniAg6"
      },
      "source": [
        "# Choosing a_al based on resistance of interest\r\n",
        "\r\n",
        "# if choice_structure == 0:\r\n",
        "#   ############################## a_al\r\n",
        "#   # for the geometry\r\n",
        "#   b0_al = b\r\n",
        "#   a_al = Symbol('a_al')\r\n",
        "#   # for the new material\r\n",
        "#   E_choice = E\r\n",
        "#   # at the inicial of the struct \r\n",
        "#   E_t_choice = 10*E_t\r\n",
        "\r\n",
        "#   # linear equation for b_al\r\n",
        "#   b_al = (b0_al/L)*(L-x)\r\n",
        "#   # linear equation for I_al in function of b_al\r\n",
        "#   I_al = 2*( b_al*(a_al**3)/12   +  a_al*b_al*(((a_al+h)/2)**2) )\r\n",
        "#   # stiffness\r\n",
        "#   E_t_al = E_choice * I_al \r\n",
        "\r\n",
        "#   #roots of\r\n",
        "#   function_a = E_t_al.subs(x,0) - E_t_choice\r\n",
        "#   # https://www.wolframalpha.com/input/?i=y%3D+10000000*x%5E3+%2B+30000000*x*%28x+%2B+0.0005%29%5E2+-+E_t_choice\r\n",
        "\r\n"
      ],
      "execution_count": null,
      "outputs": []
    },
    {
      "cell_type": "code",
      "metadata": {
        "id": "1oQPP9a4E1oV"
      },
      "source": [
        "#Choosing resistance based on a_al of interest\r\n",
        "if choice_structure == 0:\r\n",
        "  x = Symbol('x')\r\n",
        " \r\n",
        "  a_al = 0.1e-3\r\n",
        "  b0_al = b\r\n",
        "  E_choice = E\r\n",
        "  b_al = (b0_al/L)*(L-x)\r\n",
        "  I_al = 2*( b_al*(a_al**3)/12   +  a_al*b_al*(((a_al+h)/2)**2) )\r\n",
        "  E_t_al = E_choice * I_al \r\n",
        "\r\n",
        "  E_t_choice = E_t_al.subs(x,0)"
      ],
      "execution_count": null,
      "outputs": []
    },
    {
      "cell_type": "code",
      "metadata": {
        "id": "4RLsOo-TeaHU"
      },
      "source": [
        "if choice_structure == 0:\r\n",
        "  \r\n",
        "  ############################## E_t_al as a funtion\r\n",
        "  E_t_al = E_t_choice*(-x/L + 1)\r\n",
        "  ############################## phi_r_al \r\n",
        "  E_t_all = E_t + E_t_al\r\n",
        "  pond = E_t_all/E_t \r\n",
        "\r\n",
        "  #Parameters - structure\r\n",
        "  #New system mass\r\n",
        "  rho_s = rho\r\n",
        "  A_s = (b*L)/2\r\n",
        "  V_s = A_s * a_al\r\n",
        "  m_al = ((rho_s * V_s)/L) \r\n",
        "  #New system stiffness\r\n",
        "  E_t_m = (Integral(E_t_all,(x,0,L)).doit().evalf())/L\r\n",
        "  # Parameters     \r\n",
        "  m = m + m_al\r\n",
        "  E_t = E_t_m \r\n",
        "  m = float (m)\r\n",
        "  E_t = float (E_t)\r\n",
        "\r\n"
      ],
      "execution_count": null,
      "outputs": []
    },
    {
      "cell_type": "markdown",
      "metadata": {
        "id": "J0jtVC7hX89_"
      },
      "source": [
        "# **Choice of environmental specifications and boundary conditions**"
      ]
    },
    {
      "cell_type": "markdown",
      "metadata": {
        "id": "XVbLihPRRUIQ"
      },
      "source": [
        "\r\n",
        "*   for air = 1\r\n",
        "*   for fluid = 0\r\n",
        "\r\n",
        "\r\n",
        "\r\n"
      ]
    },
    {
      "cell_type": "code",
      "metadata": {
        "id": "EMLXfEFGYY1y"
      },
      "source": [
        "choice_environment = 0\r\n",
        "\r\n",
        "if choice_environment == 1:\r\n",
        "  A1 = 0\r\n",
        "  A2 = 0\r\n",
        "else:\r\n",
        "    A1 = (np.pi/4)*phoa*b*b*cm\r\n",
        "    A2 = (phoa/2)*b*cd\r\n",
        "    factormas = ((A1+m)*L)/(b*h*rho*L)\r\n",
        "    m1 = factormas*m1\r\n",
        "    m2 = factormas*m2\r\n",
        "    \r\n",
        "m = m + A1"
      ],
      "execution_count": null,
      "outputs": []
    },
    {
      "cell_type": "markdown",
      "metadata": {
        "id": "ByqTNB6fTpts"
      },
      "source": [
        "\r\n",
        "*   clamped - free = 1\r\n",
        "*   free - free = 0\r\n",
        "\r\n"
      ]
    },
    {
      "cell_type": "code",
      "metadata": {
        "id": "kRQgcEMmT_nV"
      },
      "source": [
        "choice_boundary = 1"
      ],
      "execution_count": null,
      "outputs": []
    },
    {
      "cell_type": "markdown",
      "metadata": {
        "id": "esmQYTf2YZbm"
      },
      "source": [
        "# **Choice of the number of control points and vibration modes for approximation**"
      ]
    },
    {
      "cell_type": "markdown",
      "metadata": {
        "id": "xJVqIlkXR6tY"
      },
      "source": [
        "\r\n",
        "ni = variable that controls the number of points\r\n",
        "\r\n",
        "nm = variable that controls the number of modes"
      ]
    },
    {
      "cell_type": "code",
      "metadata": {
        "id": "j-9Nw8KaZuUz"
      },
      "source": [
        "#alpha = np.array([1])\r\n",
        "alpha = np.array([0, 0.25, 0.5, 0.75, 1])\r\n",
        "ni = len(alpha)\r\n",
        "\r\n",
        "nm = 5"
      ],
      "execution_count": null,
      "outputs": []
    },
    {
      "cell_type": "markdown",
      "metadata": {
        "id": "q_Lp8Gu_av1w"
      },
      "source": [
        "# **Choice of the Number and position of MFCs**"
      ]
    },
    {
      "cell_type": "markdown",
      "metadata": {
        "id": "siHk8N0mfEN2"
      },
      "source": [
        "Here, $ n_{pi} $ MFCs located between the positions of interest are taken:\r\n",
        "\r\n",
        "$ \\bullet$ $\\alpha_{piezo} L - Lp$ and $\\alpha_{piezo} L$.\r\n",
        "\r\n",
        "Where $\\alpha_ {piezo} $ is the percentage of the beam where the MFC is placed and $ L_p $ the size of the piezo. Therefore, in other words, $ \\alpha_ {piezo} $ represents the percentage of the beam where the *end* of the MFC is placed."
      ]
    },
    {
      "cell_type": "code",
      "metadata": {
        "id": "Fc78e0FbctJ0"
      },
      "source": [
        "#Observation: \r\n",
        "#piezo_loc = [Lp/L, (L/2 + Lp/2)/L]  # Positions of piezos (percentage of the beam)\r\n",
        "#piezo_loc = [Lp/L]\r\n",
        "piezo_loc = [Lp/L, 12/30, 20/30]\r\n",
        "npi = len(piezo_loc) # Number of piezos\r\n",
        "\r\n",
        "n_piezos = npi"
      ],
      "execution_count": null,
      "outputs": []
    },
    {
      "cell_type": "markdown",
      "metadata": {
        "id": "vQHXmZyQdbj9"
      },
      "source": [
        "# **Computation of $\\lambda$ values**"
      ]
    },
    {
      "cell_type": "code",
      "metadata": {
        "colab": {
          "base_uri": "https://localhost:8080/"
        },
        "id": "z05SV6jhesDL",
        "outputId": "60dbc803-7127-40b6-fdd3-534f9c7523ff"
      },
      "source": [
        "lambda_ = np.arange(0,50,0.00001)\r\n",
        "\r\n",
        "\r\n",
        "kb = lambda_*(m2/(m*L))\r\n",
        "ka = lambda_*(m1/(m*L))\r\n",
        "\r\n",
        "free_free = 1 - np.cos(lambda_)*np.cosh(lambda_) + (-np.cos(lambda_)*np.sinh(lambda_)  + np.sin(lambda_)*np.cosh(lambda_))*ka + (-np.cos(lambda_)*np.sinh(lambda_)  + np.sin(lambda_)*np.cosh(lambda_))*kb + 2*np.sinh(lambda_)*np.sin(lambda_)*ka*kb\r\n",
        "clamped_free = 1 + np.cos(lambda_)*np.cosh(lambda_) +  kb*(np.cos(lambda_)*np.sinh(lambda_) - np.sin(lambda_)*np.cosh(lambda_) )\r\n",
        "\r\n",
        "func = choice_boundary*(clamped_free) + (1-choice_boundary)*(free_free)\r\n",
        "\r\n",
        "plt.figure(figsize=(8,4))\r\n",
        "plt.plot(lambda_,func,color='blue')\r\n",
        "plt.grid()\r\n",
        "plt.yscale('log')\r\n",
        "plt.xlabel('$\\lambda$',fontsize=18)\r\n",
        "plt.ylabel('$Function$',fontsize=18)\r\n",
        "plt.grid()\r\n",
        "plt.show()\r\n",
        "\r\n",
        "possible_root = []\r\n",
        "for i in range(0,len(func)-1):\r\n",
        "  if (func[i]>0 and func[i+1]<0) or (func[i]<0 and func[i+1]>0):\r\n",
        "    possible_root.append(lambda_[i])\r\n",
        "\r\n",
        "lambda_ = Symbol('\\\\lambda')\r\n",
        "\r\n",
        "\r\n",
        "roots = []\r\n",
        "n_roots = nm # Number of roots desired\r\n",
        "\r\n",
        "kb = lambda_*(m2/(m*L))\r\n",
        "ka = lambda_*(m1/(m*L))\r\n",
        "\r\n",
        "free_free = 1 - cos(lambda_)*cosh(lambda_) + (-cos(lambda_)*sinh(lambda_)  + sin(lambda_)*cosh(lambda_))*ka + (-cos(lambda_)*sinh(lambda_)  + sin(lambda_)*cosh(lambda_))*kb + 2*sinh(lambda_)*sin(lambda_)*ka*kb\r\n",
        "clamped_free = 1 + cos(lambda_)*cosh(lambda_)+ kb*(cos(lambda_)*sinh(lambda_)-sin(lambda_)*cosh(lambda_))\r\n",
        "\r\n",
        "func = choice_boundary*(clamped_free) + (1-choice_boundary)*(free_free)\r\n",
        "\r\n",
        "for i in range(0,n_roots):\r\n",
        " roots.append(nsolve(func, lambda_, possible_root[i], prec=20))\r\n",
        "\r\n",
        "print('The {} first values of lambda computed: '.format(len(roots)))\r\n",
        "print('')\r\n",
        "for i in range(0,len(roots)):\r\n",
        "  print('lambda_{} = {}'.format(i,roots[i]))\r\n"
      ],
      "execution_count": null,
      "outputs": [
        {
          "output_type": "display_data",
          "data": {
            "image/png": "[encoded data removed]",
            "text/plain": [
              "<Figure size 576x288 with 1 Axes>"
            ]
          },
          "metadata": {
            "tags": [],
            "needs_background": "light"
          }
        },
        {
          "output_type": "stream",
          "text": [
            "The 5 first values of lambda computed: \n",
            "\n",
            "lambda_0 = 1.6163996601559350779\n",
            "lambda_1 = 4.2670615668647450843\n",
            "lambda_2 = 7.3183726733425058373\n",
            "lambda_3 = 10.401562632665816833\n",
            "lambda_4 = 13.506702248387154204\n"
          ],
          "name": "stdout"
        }
      ]
    },
    {
      "cell_type": "markdown",
      "metadata": {
        "id": "5t1R02OdesaA"
      },
      "source": [
        "# **Computation of the functions of modes $\\Phi_r$**"
      ]
    },
    {
      "cell_type": "code",
      "metadata": {
        "colab": {
          "base_uri": "https://localhost:8080/"
        },
        "id": "BvgZ9Q6dV-JI",
        "outputId": "d2c2894d-265a-4b41-8910-a7d6935a3308"
      },
      "source": [
        "x = Symbol('x')\r\n",
        "\r\n",
        "Beta =  Symbol('Beta')\r\n",
        "lambd_ = Symbol('lambd_')\r\n",
        "L_B = Symbol('L_B')\r\n",
        "Beta = lambd_ /L_B\r\n",
        "\r\n",
        "\r\n",
        "Q = cosh(Beta*x) + cos(Beta*x)\r\n",
        "R = sinh(Beta*x) + sin(Beta*x)\r\n",
        "S = cosh(Beta*x) - cos(Beta*x)\r\n",
        "T = sinh(Beta*x) - sin(Beta*x)\r\n",
        "\r\n",
        "Cr = 1\r\n",
        "\r\n",
        "kb = lambd_ * m2 /(L*m)\r\n",
        "ka = lambd_ * m1 /(L*m)\r\n",
        "\r\n",
        "phi_clamped_free = Cr*(-S + T*((T.subs(x,L_B)+kb*S.subs(x,L_B))/(Q.subs(x,L_B)+kb*T.subs(x,L_B))))\r\n",
        "\r\n",
        "f1 = (cos(lambd_) +cosh(lambd_))*kb + 2*(cosh(lambd_))*ka + 2*(sinh(lambd_))*ka*kb\r\n",
        "f2 = (sin(lambd_) + sinh(lambd_))*kb\r\n",
        "phi_free_free  =   Cr*((-((S.subs(x,L_B)) + f2)/(R.subs(x,L_B) + f1))*(Q)  +  (sin(Beta*x))  +    ((-2*ka*((S.subs(x,L_B)+f2)/(R.subs(x,L_B) + f1)))+(1))*(sinh(Beta*x)) )\r\n",
        "\r\n",
        "\r\n",
        "phi = choice_boundary*phi_clamped_free +  (1-choice_boundary)*phi_free_free\r\n",
        "\r\n",
        "\r\n",
        "\r\n",
        "print('Expression for phi:')\r\n",
        "print(phi)\r\n",
        "phi\r\n",
        "\r\n",
        "phi_r1 = []\r\n",
        "for i in range(0,len(roots)):\r\n",
        "  phi_r1.append(phi.subs(lambd_,roots[i]))\r\n",
        "\r\n",
        "phi_r = []\r\n",
        "for i in range(0,len(roots)):\r\n",
        "  phi_r.append(phi_r1[i].subs(L_B,L))\r\n",
        "\r\n",
        "print(\"\\n\")\r\n",
        "\r\n",
        "\r\n",
        "print('Numeric expressions for phi:')\r\n",
        "print(phi_r)\r\n",
        "\r\n"
      ],
      "execution_count": null,
      "outputs": [
        {
          "output_type": "stream",
          "text": [
            "Expression for phi:\n",
            "(-sin(lambd_*x/L_B) + sinh(lambd_*x/L_B))*(0.2*lambd_*(-cos(lambd_) + cosh(lambd_)) - sin(lambd_) + sinh(lambd_))/(0.2*lambd_*(-sin(lambd_) + sinh(lambd_)) + cos(lambd_) + cosh(lambd_)) + cos(lambd_*x/L_B) - cosh(lambd_*x/L_B)\n",
            "\n",
            "\n",
            "Numeric expressions for phi:\n",
            "[-0.75244194252634073152*sin(4.0409991503898376947*x) + cos(4.0409991503898376947*x) + 0.75244194252634073152*sinh(4.0409991503898376947*x) - cosh(4.0409991503898376947*x), -1.0139795513098749171*sin(10.667653917161862711*x) + cos(10.667653917161862711*x) + 1.0139795513098749171*sinh(10.667653917161862711*x) - cosh(10.667653917161862711*x), -0.9995376781383831998*sin(18.295931683356264593*x) + cos(18.295931683356264593*x) + 0.9995376781383831998*sinh(18.295931683356264593*x) - cosh(18.295931683356264593*x), -1.0000163505157465456*sin(26.003906581664542081*x) + cos(26.003906581664542081*x) + 1.0000163505157465456*sinh(26.003906581664542081*x) - cosh(26.003906581664542081*x), -0.99999940562376731281*sin(33.766755620967885511*x) + cos(33.766755620967885511*x) + 0.99999940562376731281*sinh(33.766755620967885511*x) - cosh(33.766755620967885511*x)]\n"
          ],
          "name": "stdout"
        }
      ]
    },
    {
      "cell_type": "code",
      "metadata": {
        "colab": {
          "base_uri": "https://localhost:8080/"
        },
        "id": "zZydbENN3Pjw",
        "outputId": "b4ce6ab2-8057-4e1e-95e6-d36a4d38f52b"
      },
      "source": [
        "# Computing and coupling Cr:\r\n",
        "\r\n",
        "Cr = []\r\n",
        "\r\n",
        "for i in range (0, len(roots)):\r\n",
        "\r\n",
        "  integral  = integrate(phi_r[i]*phi_r[i], (x, 0, L))\r\n",
        "  phi_r_L= phi_r[i].subs(x,L)\r\n",
        "  phi_r_0= phi_r[i].subs(x,0)\r\n",
        "\r\n",
        "  RR = 1 / (m*integral + m2*phi_r_L*phi_r_L + m1*phi_r_0*phi_r_0)\r\n",
        "  RR = RR**0.5\r\n",
        "  Cr.append(RR)\r\n",
        "\r\n",
        "for i in range (0, len(roots)):\r\n",
        "  phi_r[i] = Cr[i]*phi_r[i]\r\n",
        "\r\n",
        "\r\n",
        "print(\"\\n\")\r\n",
        "print(\"\\n\")\r\n",
        "print(\"\\n\")\r\n"
      ],
      "execution_count": null,
      "outputs": [
        {
          "output_type": "stream",
          "text": [
            "\n",
            "\n",
            "\n",
            "\n",
            "\n",
            "\n"
          ],
          "name": "stdout"
        }
      ]
    },
    {
      "cell_type": "code",
      "metadata": {
        "id": "JCpMiu0lhmAA"
      },
      "source": [
        "if choice_structure == 0:\r\n",
        "  for i in range (len(phi_r)):\r\n",
        "    phi_r[i] = phi_r[i]/pond"
      ],
      "execution_count": null,
      "outputs": []
    },
    {
      "cell_type": "markdown",
      "metadata": {
        "id": "-aG6Zwhue7DP"
      },
      "source": [
        "# **Graphical analysis of vibration modes $\\Phi_r$**"
      ]
    },
    {
      "cell_type": "code",
      "metadata": {
        "colab": {
          "base_uri": "https://localhost:8080/",
          "height": 592
        },
        "id": "dyre8SQVb07f",
        "outputId": "26fe90f7-b4e0-48a1-bf73-6e12e512692c"
      },
      "source": [
        "# Discretizing the length of the bar\r\n",
        "discre = 1000\r\n",
        "i = np.linspace(0, L,discre)\r\n",
        "ii = 0\r\n",
        "\r\n",
        "plt.figure(figsize=(20,10))\r\n",
        "\r\n",
        "for ii in range (0, len(roots)):\r\n",
        "  PHI_R = []\r\n",
        "  for j in range (0, len(i)):\r\n",
        "    aux = phi_r[ii].subs(x,i[j])\r\n",
        "    PHI_R.append(aux)\r\n",
        "\r\n",
        "  PHI_R = np.array(PHI_R)\r\n",
        "  i = np.array(i)\r\n",
        "  plt.plot(i,PHI_R,label='Mode number {}'.format(ii+1))\r\n",
        "\r\n",
        "plt.legend()\r\n",
        "plt.grid()"
      ],
      "execution_count": null,
      "outputs": [
        {
          "output_type": "display_data",
          "data": {
            "image/png": "[encoded data removed]",
            "text/plain": [
              "<Figure size 1440x720 with 1 Axes>"
            ]
          },
          "metadata": {
            "tags": [],
            "needs_background": "light"
          }
        }
      ]
    },
    {
      "cell_type": "markdown",
      "metadata": {
        "id": "v-lAI0vOfSRT"
      },
      "source": [
        "# **Graphical analysis of of the first derivative of $\\Phi$**"
      ]
    },
    {
      "cell_type": "code",
      "metadata": {
        "colab": {
          "base_uri": "https://localhost:8080/",
          "height": 592
        },
        "id": "kMr-9TkNmVG5",
        "outputId": "08c44097-8b94-4e76-f5dc-b866b160d021"
      },
      "source": [
        "import sympy as sy\r\n",
        "dphi_r = []\r\n",
        "for i in range (len(phi_r)):\r\n",
        "  dphi_r.append(sy.diff(phi_r[i]))\r\n",
        "\r\n",
        "# Discretizing the length of the bar\r\n",
        "i = np.linspace(0, L,discre)\r\n",
        "ii = 0\r\n",
        "\r\n",
        "plt.figure(figsize=(20,10))\r\n",
        "\r\n",
        "for ii in range (0, len(roots)):\r\n",
        "  DPHI_R = []\r\n",
        "  for j in range (0, len(i)):\r\n",
        "    aux = dphi_r[ii].subs(x,i[j])\r\n",
        "    DPHI_R.append(aux)\r\n",
        "\r\n",
        "  DPHI_R = np.array(DPHI_R)\r\n",
        "  i = np.array(i)\r\n",
        "  plt.plot(i,DPHI_R,label='Mode number {}'.format(ii+1))\r\n",
        "\r\n",
        "plt.legend()\r\n",
        "plt.grid()\r\n"
      ],
      "execution_count": null,
      "outputs": [
        {
          "output_type": "display_data",
          "data": {
            "image/png": "[encoded data removed]",
            "text/plain": [
              "<Figure size 1440x720 with 1 Axes>"
            ]
          },
          "metadata": {
            "tags": [],
            "needs_background": "light"
          }
        }
      ]
    },
    {
      "cell_type": "markdown",
      "metadata": {
        "id": "vwSeco6qfyP6"
      },
      "source": [
        "# **Defining $\\alpha$ according to the point of interest ($0\\leq\\alpha\\leq1 $)**"
      ]
    },
    {
      "cell_type": "code",
      "metadata": {
        "colab": {
          "base_uri": "https://localhost:8080/"
        },
        "id": "CMmOEj2Zgn7r",
        "outputId": "fe4a037c-a24f-46fe-8e84-77716316c163"
      },
      "source": [
        "# We will consider several different measurement points\r\n",
        "xnum = alpha*L\r\n",
        "\r\n",
        "phi_r_num = np.zeros((len(alpha),len(roots)))\r\n",
        "\r\n",
        "for i in range(0,len(roots)):\r\n",
        "  for cont in range(0,len(alpha)):\r\n",
        "    phi_r_num[cont,i] = phi_r[i].subs(x,xnum[cont])\r\n",
        "\r\n",
        "\r\n",
        "        \r\n",
        "print('Values of Phi_r:')\r\n",
        "print('')\r\n",
        "\r\n",
        "phi_r_num"
      ],
      "execution_count": null,
      "outputs": [
        {
          "output_type": "stream",
          "text": [
            "Values of Phi_r:\n",
            "\n"
          ],
          "name": "stdout"
        },
        {
          "output_type": "execute_result",
          "data": {
            "text/plain": [
              "array([[ 0.        ,  0.        ,  0.        ,  0.        ,  0.        ],\n",
              "       [-0.03921788, -0.20272736, -0.38796179, -0.40741464, -0.2184771 ],\n",
              "       [-0.19886575, -0.57426943, -0.16367298,  0.5419517 ,  0.17610082],\n",
              "       [-0.6858324 , -0.55818843,  0.94509875, -0.64980647, -0.0848977 ],\n",
              "       [-4.16626418,  2.62619342, -1.91414853,  1.48187647, -1.20503827]])"
            ]
          },
          "metadata": {
            "tags": []
          },
          "execution_count": 35
        }
      ]
    },
    {
      "cell_type": "markdown",
      "metadata": {
        "id": "NsCFOA8kgoQp"
      },
      "source": [
        "# **Calculation of modal parameters**"
      ]
    },
    {
      "cell_type": "markdown",
      "metadata": {
        "id": "il3oCyptARxD"
      },
      "source": [
        " Expressions in modal form\r\n",
        "\r\n",
        "Now, let's write our general equation of motion in the modal domain, as follows:\r\n",
        "\r\n",
        "\r\n",
        "\r\n",
        "$\\ddot{\\eta}_{r}(t)+\\left(2 \\zeta_{r} \\omega_{r}+\\kappa_r\\left|\\dot{\\eta}_{r}(t)\\right|\\right) \\dot{\\eta}_{r}(t)+\\omega_{r}^{2} \\eta_{r}(t)=f_r$\r\n",
        "\r\n",
        "where:\r\n",
        "\r\n",
        "$\\omega_r = \\lambda_r^2.\\sqrt{ \\left(\\dfrac{E_t}{(m+A_1).L^4} \\right) } $\r\n",
        "\r\n",
        "$2\\zeta_{r}\\omega_{r} = \\dfrac{c_sI\\omega_{r}^2}{E_t} + \\dfrac{c_a(1- m_1\\phi_{r}(0)^2 - m_2\\phi_{r}(L)^2)}{m+A_1}$\r\n",
        "\r\n",
        "$\\kappa_r = A_2 \\int_{0}^{L}  \\left|\\phi_{r}(x)\\right|\\phi_{r}(x)^2 dx$\r\n",
        "\r\n",
        "\r\n",
        "$f_r = \\sum\\limits_{i=1}^{npi}\\theta_{ri}V_i(t)$\r\n",
        "\r\n",
        "with $ C_s $ being the damping coefficient related to internal dissipation, $ C_a $ related to air dissipation, $E_t$  the \r\n",
        "mechanical stiffness, $ m $ the \r\n",
        "mass per unit length of the beam , $ L $ the length and $ f_r $ the excitation force applied.\r\n",
        "\r\n",
        "$ f_r $ will be detailed in the next blocks\r\n",
        "\r\n"
      ]
    },
    {
      "cell_type": "code",
      "metadata": {
        "id": "xvIxlq2hgwyr"
      },
      "source": [
        "omega_r = np.zeros(len(roots))\r\n",
        "\r\n",
        "for i in range(0,len(roots)):\r\n",
        "    omega_r[i] = roots[i]**2 * np.sqrt((E_t) / ((m)*L**4) )\r\n",
        "\r\n",
        "wr = omega_r "
      ],
      "execution_count": null,
      "outputs": []
    },
    {
      "cell_type": "code",
      "metadata": {
        "id": "Xlf2NLK7UJ88"
      },
      "source": [
        "if choice_environment == 1:\r\n",
        "  k_r = np.zeros(len(roots))\r\n",
        "\r\n",
        "if choice_environment == 0:\r\n",
        "  k_r = np.ones(len(roots))\r\n",
        "\r\n",
        "  for i in range (0, len(roots)):\r\n",
        "\r\n",
        "   #k_r[i] = A2*integrate(phi_r[i]*phi_r[i]*abs(phi_r[i]), (x, 0, L))\r\n",
        "   #5 modos, engastado livre\r\n",
        "   k_r = [1181.79480924, 1885.56166077, 2120.81629944, 2217.54833984, 2264.9609375 ]\r\n"
      ],
      "execution_count": null,
      "outputs": []
    },
    {
      "cell_type": "code",
      "metadata": {
        "id": "qqMklEB-_kuz"
      },
      "source": [
        "if choice_environment == 1:  \r\n",
        "  # Taking the first zetas as being\r\n",
        "  zeta0 = 0.010 #associated to omega_r[0]\r\n",
        "  zeta1 = 0.012 #associated to omega_r[1]\r\n",
        "\r\n",
        "  Et = E_t\r\n",
        "\r\n",
        "  wj = omega_r[0]\r\n",
        "  wk = omega_r[1]\r\n",
        "\r\n",
        "  fj = 1- m1*(phi_r[0].subs(x,0))**2 - m2*((phi_r[0].subs(x,L))**2)\r\n",
        "  fk = 1- m1*(phi_r[1].subs(x,0))**2 - m2*((phi_r[1].subs(x,L))**2)\r\n",
        "\r\n",
        "  M1 = -(2*Et*fk*wj)/(- fk*wj**2 + fj*wk**2)\r\n",
        "  M2 = (2*Et*fj*wk)/(- fk*wj**2 + fj*wk**2)\r\n",
        "  M3 = (2*wj*wk**2*(m))/(- fk*wj**2 + fj*wk**2)\r\n",
        "  M4 = -(2*wj**2*wk*(m))/(- fk*wj**2 + fj*wk**2)\r\n",
        "\r\n",
        "\r\n",
        "  Maux = [[M1,M2] , [M3,M4] ]\r\n",
        "\r\n",
        "  # Internal dissipation coefficient\r\n",
        "  cs = ((M1*zeta0) + (M2*zeta1))/I  \r\n",
        "\r\n",
        "  # External dissipation coefficient\r\n",
        "  ca = ((M3*zeta0) + (M4*zeta1))\r\n",
        "\r\n",
        "  zeta_r = np.zeros(len(roots))\r\n",
        "  for i in range(0,len(roots)):\r\n",
        "    zeta_r[i] = ( (cs*I*omega_r[i]**2)/(E_t)  + (ca*(1- m1*(phi_r[i].subs(x,0))**2 - m2*((phi_r[i].subs(x,L))**2)))/(m) ) / (2*omega_r[i])\r\n",
        "  n = len(roots)"
      ],
      "execution_count": null,
      "outputs": []
    },
    {
      "cell_type": "code",
      "metadata": {
        "id": "d82wIqzsnCt3"
      },
      "source": [
        "\r\n",
        "if choice_environment == 0:  \r\n",
        "\r\n",
        "  cs = 1396219.2029575329548\r\n",
        "  \r\n",
        "  zeta_r = np.zeros(len(roots))\r\n",
        "  for i in range(0,len(roots)):\r\n",
        "    zeta_r[i] = ( (cs*I*omega_r[i]**2)/(E_t)  + (0.001*A2*(1- m1*(phi_r[i].subs(x,0))**2 - m2*((phi_r[i].subs(x,L))**2)))/(m) ) / (2*omega_r[i])\r\n",
        "  n = len(roots)"
      ],
      "execution_count": null,
      "outputs": []
    },
    {
      "cell_type": "code",
      "metadata": {
        "id": "Cri_k29JuYpp"
      },
      "source": [
        "#ca = 0.0026146982694404338298"
      ],
      "execution_count": null,
      "outputs": []
    },
    {
      "cell_type": "code",
      "metadata": {
        "colab": {
          "base_uri": "https://localhost:8080/"
        },
        "id": "9wgO91-ouwJ7",
        "outputId": "c2a0b674-2a43-4464-8e56-b750ad52aa96"
      },
      "source": [
        "0.05*A2"
      ],
      "execution_count": null,
      "outputs": [
        {
          "output_type": "execute_result",
          "data": {
            "image/png": "[encoded data removed]",
            "text/latex": "$\\displaystyle 10.0$",
            "text/plain": [
              "10.0"
            ]
          },
          "metadata": {
            "tags": []
          },
          "execution_count": 41
        }
      ]
    },
    {
      "cell_type": "markdown",
      "metadata": {
        "id": "Wqi2CpjMgx3m"
      },
      "source": [
        "# **Calculation of $\\tilde{\\theta}_i$**"
      ]
    },
    {
      "cell_type": "code",
      "metadata": {
        "id": "VYIjSDBpg6-e"
      },
      "source": [
        "# n_modes = nm\r\n",
        "# n_piezos = npi\r\n",
        "\r\n",
        "# theta = np.zeros((n_modes,n_piezos))\r\n",
        "\r\n",
        "# #Discretizing the length of the bar\r\n",
        "# comp_discret = discre\r\n",
        "# Ll = L\r\n",
        "# i = np.linspace(0, Ll,comp_discret)\r\n",
        "\r\n",
        "# for ii in range (0, nm):\r\n",
        "#   for cont_piezo in range(0,n_piezos):\r\n",
        "#     theta[ii,cont_piezo] = coupling*(dPHI_R[np.int(piezo_loc[cont_piezo]*comp_discret),ii] - dPHI_R[np.int(piezo_loc[cont_piezo]*comp_discret-Lp*comp_discret/Ll),ii])\r\n"
      ],
      "execution_count": null,
      "outputs": []
    },
    {
      "cell_type": "code",
      "metadata": {
        "id": "wBhCJd3arZQt"
      },
      "source": [
        "n_modes = nm\r\n",
        "n_piezos = npi\r\n",
        "\r\n",
        "theta = np.zeros((n_modes,n_piezos))\r\n",
        "\r\n",
        "#Discretizing the length of the bar\r\n",
        "comp_discret = discre\r\n",
        "Ll = L\r\n",
        "i = np.linspace(0, Ll,comp_discret)\r\n",
        "\r\n",
        "for ii in range (0, nm):\r\n",
        "  for cont_piezo in range(0,n_piezos):\r\n",
        "    theta[ii,cont_piezo] = coupling*( dphi_r[ii].subs(x,piezo_loc[cont_piezo]*L)  -   dphi_r[ii].subs(x,(piezo_loc[cont_piezo]*L - Lp))  )"
      ],
      "execution_count": null,
      "outputs": []
    },
    {
      "cell_type": "markdown",
      "metadata": {
        "id": "pm0RM6Eog7Tz"
      },
      "source": [
        "# **State space definition**"
      ]
    },
    {
      "cell_type": "code",
      "metadata": {
        "id": "Yi_L6QfV2DR-"
      },
      "source": [
        "n_modes = nm\r\n",
        "n_points = ni\r\n",
        "vel = 0"
      ],
      "execution_count": null,
      "outputs": []
    },
    {
      "cell_type": "code",
      "metadata": {
        "id": "bAp7CgjQhH5X"
      },
      "source": [
        "A = np.zeros((2*n_modes*n_points ,2*n_modes*n_points))\r\n",
        "#Filling in the 0 and 1 lines\r\n",
        "i=0\r\n",
        "while i < 2*n_modes*n_points:\r\n",
        "  j = 0\r\n",
        "  while j < 2*n_modes*n_points:\r\n",
        "    if (j % 2 == 0):\r\n",
        "      A[i][j] = 0\r\n",
        "    else:\r\n",
        "      if (i+1) == j:\r\n",
        "        A[i][j] = 1\r\n",
        "    j = j+1\r\n",
        "  i = i + 1\r\n",
        "\r\n",
        "\r\n",
        "#Filling the lines of wr and zetas\r\n",
        "i=1\r\n",
        "aux = 0\r\n",
        "while i < 2*n_modes*n_points:\r\n",
        "\r\n",
        "  if aux >= len(wr):\r\n",
        "    aux = 0\r\n",
        "  j = 0\r\n",
        "  while j < 2*n_modes*n_points:\r\n",
        "    if (j % 2 == 0):\r\n",
        "      A[i][j] = 0\r\n",
        "    else:\r\n",
        "      if i == j:\r\n",
        "        A[i][j] = -(2*zeta_r[aux]*omega_r[aux] + k_r[aux]*vel )\r\n",
        "        A[i][j-1] = -omega_r[aux]**2  \r\n",
        "        aux = aux+1\r\n",
        "    j = j+1\r\n",
        "\r\n",
        "  i = i + 1"
      ],
      "execution_count": null,
      "outputs": []
    },
    {
      "cell_type": "code",
      "metadata": {
        "colab": {
          "base_uri": "https://localhost:8080/"
        },
        "id": "2fq_V0fL1DAz",
        "outputId": "d937d77b-192e-4e14-cfcb-c4acc538582e"
      },
      "source": [
        "plt.matshow(A,cmap='gray')\r\n",
        "plt.colorbar()\r\n",
        "#plt.title('Matrix A')\r\n",
        "plt.show()"
      ],
      "execution_count": null,
      "outputs": [
        {
          "output_type": "display_data",
          "data": {
            "image/png": "[encoded data removed]",
            "text/plain": [
              "<Figure size 288x288 with 2 Axes>"
            ]
          },
          "metadata": {
            "tags": [],
            "needs_background": "light"
          }
        }
      ]
    },
    {
      "cell_type": "code",
      "metadata": {
        "id": "lD67L8vf19FJ"
      },
      "source": [
        "#Matrix B\r\n",
        "B = np.zeros((2*n_modes*n_points , n_piezos))\r\n",
        "#Filling in the 0 lines\r\n",
        "i=0\r\n",
        "while i < 2*n_modes*n_points:\r\n",
        "  j = 0\r\n",
        "  while j < n_piezos:\r\n",
        "    if (i % 2 == 0):\r\n",
        "      B[i][j] = 0\r\n",
        "    j = j+1\r\n",
        "  i = i + 1\r\n",
        "\r\n",
        "#Filling the coupling lines\r\n",
        "k1 = 0\r\n",
        "k2 = 0\r\n",
        "k3 = 0\r\n",
        "aux = []\r\n",
        "\r\n",
        "for k1 in range(0,n_points):\r\n",
        "  for k2 in range(0,len(wr)):\r\n",
        "    for k3 in range (0,n_piezos):\r\n",
        "      aux.append(-phi_r_num[k1][k2]*theta[k2][k3])\r\n",
        "n_aux = len(aux)\r\n",
        "\r\n",
        "i=0\r\n",
        "count = 0\r\n",
        "while i < 2*n_modes*n_points:\r\n",
        "  j = 0\r\n",
        "  if (i % 2 != 0):\r\n",
        "    while j < n_piezos:\r\n",
        "      B[i][j] = aux[j+count]\r\n",
        "      j = j+1\r\n",
        "    count = count+npi\r\n",
        "  i = i + 1"
      ],
      "execution_count": null,
      "outputs": []
    },
    {
      "cell_type": "code",
      "metadata": {
        "colab": {
          "base_uri": "https://localhost:8080/"
        },
        "id": "HjE7DnCL2Icl",
        "outputId": "27e3cbf1-00c9-4a70-e289-407ef370a3a6"
      },
      "source": [
        "plt.matshow(B,cmap='gray')\r\n",
        "plt.colorbar()\r\n",
        "#plt.title('Matrix B')\r\n",
        "plt.show()"
      ],
      "execution_count": null,
      "outputs": [
        {
          "output_type": "display_data",
          "data": {
            "image/png": "[encoded data removed]",
            "text/plain": [
              "<Figure size 288x1152 with 2 Axes>"
            ]
          },
          "metadata": {
            "tags": [],
            "needs_background": "light"
          }
        }
      ]
    },
    {
      "cell_type": "code",
      "metadata": {
        "id": "Ai0ZxVBf2Mwf"
      },
      "source": [
        "#Matrix C\r\n",
        "C = np.zeros((n_points,2*n_modes*n_points ))\r\n",
        "\r\n",
        "i = 0\r\n",
        "count = 0\r\n",
        "while  i < n_points:\r\n",
        "  j = 0\r\n",
        "\r\n",
        "  while j < 2*n_modes*n_points:\r\n",
        "    if (j % 2 == 0) and (j+count<len(C[i]) and (j<n_modes*n_points - (n_points - 2)*n_modes)):\r\n",
        "       C[i][j+count] = 1\r\n",
        "    j = j + 1\r\n",
        "\r\n",
        "  count = count + 2*n_modes \r\n",
        "\r\n",
        "  i = i + 1"
      ],
      "execution_count": null,
      "outputs": []
    },
    {
      "cell_type": "code",
      "metadata": {
        "colab": {
          "base_uri": "https://localhost:8080/"
        },
        "id": "y4EHBdQD2QLh",
        "outputId": "476c15cc-6ec8-4fe1-c29d-1f7041d825f9"
      },
      "source": [
        "plt.matshow(C,cmap='gray')\r\n",
        "plt.colorbar()\r\n",
        "#plt.title('Matrix C')\r\n",
        "plt.show()"
      ],
      "execution_count": null,
      "outputs": [
        {
          "output_type": "display_data",
          "data": {
            "image/png": "[encoded data removed]",
            "text/plain": [
              "<Figure size 1152x144 with 2 Axes>"
            ]
          },
          "metadata": {
            "tags": [],
            "needs_background": "light"
          }
        }
      ]
    },
    {
      "cell_type": "code",
      "metadata": {
        "id": "pXFnXe6yiKCq"
      },
      "source": [
        "C_m = np.identity(2*nm*ni)"
      ],
      "execution_count": null,
      "outputs": []
    },
    {
      "cell_type": "code",
      "metadata": {
        "id": "lUqU-AiMilNS"
      },
      "source": [
        "D_m = np.zeros((2*nm*ni , n_piezos))"
      ],
      "execution_count": null,
      "outputs": []
    },
    {
      "cell_type": "code",
      "metadata": {
        "id": "1WYwLR8ze2mJ"
      },
      "source": [
        "D = []\r\n",
        "for auxid1 in range (n_points):\r\n",
        "  vetord = []\r\n",
        "  for auxid in range(npi):\r\n",
        "    vetord.append(0)\r\n",
        "  D.append(vetord)    "
      ],
      "execution_count": null,
      "outputs": []
    },
    {
      "cell_type": "markdown",
      "metadata": {
        "id": "8UpYkWwAApHC"
      },
      "source": [
        "# PARA POR NO MATLAB"
      ]
    },
    {
      "cell_type": "code",
      "metadata": {
        "colab": {
          "base_uri": "https://localhost:8080/"
        },
        "id": "3cQuWjm86_U9",
        "outputId": "2eda3bf1-2bfa-46bf-dfd2-a69321cef7d4"
      },
      "source": [
        "print(\"PARA A MATRIZ A\")\r\n",
        "print(\"\\n\")\r\n",
        "\r\n",
        "MATRIX = A\r\n",
        "vaxi1 = len(MATRIX)\r\n",
        "vaxi2 = len(MATRIX[0])\r\n",
        "\r\n",
        "\r\n",
        "for i in range(0,vaxi1):\r\n",
        "  if i == 0:\r\n",
        "     print(\"[\", end=\"\")\r\n",
        "  if i != 0:\r\n",
        "    print(\";\")\r\n",
        "  for j in range (0,vaxi2):\r\n",
        "    print(MATRIX[i][j] , end=\"\")\r\n",
        "    print(\"    \", end=\"\")\r\n",
        "print(\"]\")\r\n",
        "\r\n",
        "\r\n",
        "print(\"\\n\")\r\n",
        "print(\"\\n\")\r\n",
        "\r\n",
        "print(\"PARA A MATRIZ B\")\r\n",
        "print(\"\\n\")\r\n",
        "\r\n",
        "MATRIX = B\r\n",
        "vaxi1 = len(MATRIX)\r\n",
        "vaxi2 = len(MATRIX[0])\r\n",
        "\r\n",
        "\r\n",
        "for i in range(0,vaxi1):\r\n",
        "  if i == 0:\r\n",
        "     print(\"[\", end=\"\")\r\n",
        "  if i != 0:\r\n",
        "    print(\";\")\r\n",
        "  for j in range (0,vaxi2):\r\n",
        "    print(MATRIX[i][j] , end=\"\")\r\n",
        "    print(\"    \", end=\"\")\r\n",
        "print(\"]\")\r\n",
        "\r\n",
        "print(\"\\n\")\r\n",
        "print(\"PARA A MATRIZ C_m\")\r\n",
        "print(\"\\n\")\r\n",
        "\r\n",
        "MATRIX = C_m\r\n",
        "vaxi1 = len(MATRIX)\r\n",
        "vaxi2 = len(MATRIX[0])\r\n",
        "\r\n",
        "\r\n",
        "for i in range(0,vaxi1):\r\n",
        "  if i == 0:\r\n",
        "     print(\"[\", end=\"\")\r\n",
        "  if i != 0:\r\n",
        "    print(\";\")\r\n",
        "  for j in range (0,vaxi2):\r\n",
        "    print(MATRIX[i][j] , end=\"\")\r\n",
        "    print(\"    \", end=\"\")\r\n",
        "print(\"]\")\r\n",
        "\r\n",
        "print(\"\\n\")\r\n",
        "print(\"PARA A MATRIZ D_m\")\r\n",
        "print(\"\\n\")\r\n",
        "\r\n",
        "MATRIX = D_m\r\n",
        "vaxi1 = len(MATRIX)\r\n",
        "vaxi2 = len(MATRIX[0])\r\n",
        "\r\n",
        "\r\n",
        "for i in range(0,vaxi1):\r\n",
        "  if i == 0:\r\n",
        "     print(\"[\", end=\"\")\r\n",
        "  if i != 0:\r\n",
        "    print(\";\")\r\n",
        "  for j in range (0,vaxi2):\r\n",
        "    print(MATRIX[i][j] , end=\"\")\r\n",
        "    print(\"    \", end=\"\")\r\n",
        "print(\"]\")\r\n",
        "\r\n",
        "\r\n",
        "print(\"\\n\")\r\n",
        "print(\"PARA A MATRIZ C\")\r\n",
        "print(\"\\n\")\r\n",
        "\r\n",
        "MATRIX = C\r\n",
        "vaxi1 = len(MATRIX)\r\n",
        "vaxi2 = len(MATRIX[0])\r\n",
        "\r\n",
        "\r\n",
        "for i in range(0,vaxi1):\r\n",
        "  if i == 0:\r\n",
        "     print(\"[\", end=\"\")\r\n",
        "  if i != 0:\r\n",
        "    print(\";\")\r\n",
        "  for j in range (0,vaxi2):\r\n",
        "    print(MATRIX[i][j] , end=\"\")\r\n",
        "    print(\"    \", end=\"\")\r\n",
        "print(\"]\")\r\n",
        "\r\n",
        "\r\n",
        "print(\"\\n\")\r\n",
        "print(\"PARA A MATRIZ D\")\r\n",
        "print(\"\\n\")\r\n",
        "\r\n",
        "MATRIX = D\r\n",
        "vaxi1 = len(MATRIX)\r\n",
        "vaxi2 = len(MATRIX[0])\r\n",
        "\r\n",
        "\r\n",
        "for i in range(0,vaxi1):\r\n",
        "  if i == 0:\r\n",
        "     print(\"[\", end=\"\")\r\n",
        "  if i != 0:\r\n",
        "    print(\";\")\r\n",
        "  for j in range (0,vaxi2):\r\n",
        "    print(MATRIX[i][j] , end=\"\")\r\n",
        "    print(\"    \", end=\"\")\r\n",
        "print(\"]\")"
      ],
      "execution_count": null,
      "outputs": [
        {
          "output_type": "stream",
          "text": [
            "PARA A MATRIZ A\n",
            "\n",
            "\n",
            "[0.0    1.0    0.0    0.0    0.0    0.0    0.0    0.0    0.0    0.0    0.0    0.0    0.0    0.0    0.0    0.0    0.0    0.0    0.0    0.0    0.0    0.0    0.0    0.0    0.0    0.0    0.0    0.0    0.0    0.0    0.0    0.0    0.0    0.0    0.0    0.0    0.0    0.0    0.0    0.0    0.0    0.0    0.0    0.0    0.0    0.0    0.0    0.0    0.0    0.0    ;\n",
            "-0.7592324728212779    -0.3379407651290785    0.0    0.0    0.0    0.0    0.0    0.0    0.0    0.0    0.0    0.0    0.0    0.0    0.0    0.0    0.0    0.0    0.0    0.0    0.0    0.0    0.0    0.0    0.0    0.0    0.0    0.0    0.0    0.0    0.0    0.0    0.0    0.0    0.0    0.0    0.0    0.0    0.0    0.0    0.0    0.0    0.0    0.0    0.0    0.0    0.0    0.0    0.0    0.0    ;\n",
            "0.0    0.0    0.0    1.0    0.0    0.0    0.0    0.0    0.0    0.0    0.0    0.0    0.0    0.0    0.0    0.0    0.0    0.0    0.0    0.0    0.0    0.0    0.0    0.0    0.0    0.0    0.0    0.0    0.0    0.0    0.0    0.0    0.0    0.0    0.0    0.0    0.0    0.0    0.0    0.0    0.0    0.0    0.0    0.0    0.0    0.0    0.0    0.0    0.0    0.0    ;\n",
            "0.0    0.0    -36.87189083455492    -0.5077675330022922    0.0    0.0    0.0    0.0    0.0    0.0    0.0    0.0    0.0    0.0    0.0    0.0    0.0    0.0    0.0    0.0    0.0    0.0    0.0    0.0    0.0    0.0    0.0    0.0    0.0    0.0    0.0    0.0    0.0    0.0    0.0    0.0    0.0    0.0    0.0    0.0    0.0    0.0    0.0    0.0    0.0    0.0    0.0    0.0    0.0    0.0    ;\n",
            "0.0    0.0    0.0    0.0    0.0    1.0    0.0    0.0    0.0    0.0    0.0    0.0    0.0    0.0    0.0    0.0    0.0    0.0    0.0    0.0    0.0    0.0    0.0    0.0    0.0    0.0    0.0    0.0    0.0    0.0    0.0    0.0    0.0    0.0    0.0    0.0    0.0    0.0    0.0    0.0    0.0    0.0    0.0    0.0    0.0    0.0    0.0    0.0    0.0    0.0    ;\n",
            "0.0    0.0    0.0    0.0    -319.03465313853013    -0.5786600434461536    0.0    0.0    0.0    0.0    0.0    0.0    0.0    0.0    0.0    0.0    0.0    0.0    0.0    0.0    0.0    0.0    0.0    0.0    0.0    0.0    0.0    0.0    0.0    0.0    0.0    0.0    0.0    0.0    0.0    0.0    0.0    0.0    0.0    0.0    0.0    0.0    0.0    0.0    0.0    0.0    0.0    0.0    0.0    0.0    ;\n",
            "0.0    0.0    0.0    0.0    0.0    0.0    0.0    1.0    0.0    0.0    0.0    0.0    0.0    0.0    0.0    0.0    0.0    0.0    0.0    0.0    0.0    0.0    0.0    0.0    0.0    0.0    0.0    0.0    0.0    0.0    0.0    0.0    0.0    0.0    0.0    0.0    0.0    0.0    0.0    0.0    0.0    0.0    0.0    0.0    0.0    0.0    0.0    0.0    0.0    0.0    ;\n",
            "0.0    0.0    0.0    0.0    0.0    0.0    -1301.889508059475    -0.6689077581016996    0.0    0.0    0.0    0.0    0.0    0.0    0.0    0.0    0.0    0.0    0.0    0.0    0.0    0.0    0.0    0.0    0.0    0.0    0.0    0.0    0.0    0.0    0.0    0.0    0.0    0.0    0.0    0.0    0.0    0.0    0.0    0.0    0.0    0.0    0.0    0.0    0.0    0.0    0.0    0.0    0.0    0.0    ;\n",
            "0.0    0.0    0.0    0.0    0.0    0.0    0.0    0.0    0.0    1.0    0.0    0.0    0.0    0.0    0.0    0.0    0.0    0.0    0.0    0.0    0.0    0.0    0.0    0.0    0.0    0.0    0.0    0.0    0.0    0.0    0.0    0.0    0.0    0.0    0.0    0.0    0.0    0.0    0.0    0.0    0.0    0.0    0.0    0.0    0.0    0.0    0.0    0.0    0.0    0.0    ;\n",
            "0.0    0.0    0.0    0.0    0.0    0.0    0.0    0.0    -3701.4942345517898    -0.8438003856644917    0.0    0.0    0.0    0.0    0.0    0.0    0.0    0.0    0.0    0.0    0.0    0.0    0.0    0.0    0.0    0.0    0.0    0.0    0.0    0.0    0.0    0.0    0.0    0.0    0.0    0.0    0.0    0.0    0.0    0.0    0.0    0.0    0.0    0.0    0.0    0.0    0.0    0.0    0.0    0.0    ;\n",
            "0.0    0.0    0.0    0.0    0.0    0.0    0.0    0.0    0.0    0.0    0.0    1.0    0.0    0.0    0.0    0.0    0.0    0.0    0.0    0.0    0.0    0.0    0.0    0.0    0.0    0.0    0.0    0.0    0.0    0.0    0.0    0.0    0.0    0.0    0.0    0.0    0.0    0.0    0.0    0.0    0.0    0.0    0.0    0.0    0.0    0.0    0.0    0.0    0.0    0.0    ;\n",
            "0.0    0.0    0.0    0.0    0.0    0.0    0.0    0.0    0.0    0.0    -0.7592324728212779    -0.3379407651290785    0.0    0.0    0.0    0.0    0.0    0.0    0.0    0.0    0.0    0.0    0.0    0.0    0.0    0.0    0.0    0.0    0.0    0.0    0.0    0.0    0.0    0.0    0.0    0.0    0.0    0.0    0.0    0.0    0.0    0.0    0.0    0.0    0.0    0.0    0.0    0.0    0.0    0.0    ;\n",
            "0.0    0.0    0.0    0.0    0.0    0.0    0.0    0.0    0.0    0.0    0.0    0.0    0.0    1.0    0.0    0.0    0.0    0.0    0.0    0.0    0.0    0.0    0.0    0.0    0.0    0.0    0.0    0.0    0.0    0.0    0.0    0.0    0.0    0.0    0.0    0.0    0.0    0.0    0.0    0.0    0.0    0.0    0.0    0.0    0.0    0.0    0.0    0.0    0.0    0.0    ;\n",
            "0.0    0.0    0.0    0.0    0.0    0.0    0.0    0.0    0.0    0.0    0.0    0.0    -36.87189083455492    -0.5077675330022922    0.0    0.0    0.0    0.0    0.0    0.0    0.0    0.0    0.0    0.0    0.0    0.0    0.0    0.0    0.0    0.0    0.0    0.0    0.0    0.0    0.0    0.0    0.0    0.0    0.0    0.0    0.0    0.0    0.0    0.0    0.0    0.0    0.0    0.0    0.0    0.0    ;\n",
            "0.0    0.0    0.0    0.0    0.0    0.0    0.0    0.0    0.0    0.0    0.0    0.0    0.0    0.0    0.0    1.0    0.0    0.0    0.0    0.0    0.0    0.0    0.0    0.0    0.0    0.0    0.0    0.0    0.0    0.0    0.0    0.0    0.0    0.0    0.0    0.0    0.0    0.0    0.0    0.0    0.0    0.0    0.0    0.0    0.0    0.0    0.0    0.0    0.0    0.0    ;\n",
            "0.0    0.0    0.0    0.0    0.0    0.0    0.0    0.0    0.0    0.0    0.0    0.0    0.0    0.0    -319.03465313853013    -0.5786600434461536    0.0    0.0    0.0    0.0    0.0    0.0    0.0    0.0    0.0    0.0    0.0    0.0    0.0    0.0    0.0    0.0    0.0    0.0    0.0    0.0    0.0    0.0    0.0    0.0    0.0    0.0    0.0    0.0    0.0    0.0    0.0    0.0    0.0    0.0    ;\n",
            "0.0    0.0    0.0    0.0    0.0    0.0    0.0    0.0    0.0    0.0    0.0    0.0    0.0    0.0    0.0    0.0    0.0    1.0    0.0    0.0    0.0    0.0    0.0    0.0    0.0    0.0    0.0    0.0    0.0    0.0    0.0    0.0    0.0    0.0    0.0    0.0    0.0    0.0    0.0    0.0    0.0    0.0    0.0    0.0    0.0    0.0    0.0    0.0    0.0    0.0    ;\n",
            "0.0    0.0    0.0    0.0    0.0    0.0    0.0    0.0    0.0    0.0    0.0    0.0    0.0    0.0    0.0    0.0    -1301.889508059475    -0.6689077581016996    0.0    0.0    0.0    0.0    0.0    0.0    0.0    0.0    0.0    0.0    0.0    0.0    0.0    0.0    0.0    0.0    0.0    0.0    0.0    0.0    0.0    0.0    0.0    0.0    0.0    0.0    0.0    0.0    0.0    0.0    0.0    0.0    ;\n",
            "0.0    0.0    0.0    0.0    0.0    0.0    0.0    0.0    0.0    0.0    0.0    0.0    0.0    0.0    0.0    0.0    0.0    0.0    0.0    1.0    0.0    0.0    0.0    0.0    0.0    0.0    0.0    0.0    0.0    0.0    0.0    0.0    0.0    0.0    0.0    0.0    0.0    0.0    0.0    0.0    0.0    0.0    0.0    0.0    0.0    0.0    0.0    0.0    0.0    0.0    ;\n",
            "0.0    0.0    0.0    0.0    0.0    0.0    0.0    0.0    0.0    0.0    0.0    0.0    0.0    0.0    0.0    0.0    0.0    0.0    -3701.4942345517898    -0.8438003856644917    0.0    0.0    0.0    0.0    0.0    0.0    0.0    0.0    0.0    0.0    0.0    0.0    0.0    0.0    0.0    0.0    0.0    0.0    0.0    0.0    0.0    0.0    0.0    0.0    0.0    0.0    0.0    0.0    0.0    0.0    ;\n",
            "0.0    0.0    0.0    0.0    0.0    0.0    0.0    0.0    0.0    0.0    0.0    0.0    0.0    0.0    0.0    0.0    0.0    0.0    0.0    0.0    0.0    1.0    0.0    0.0    0.0    0.0    0.0    0.0    0.0    0.0    0.0    0.0    0.0    0.0    0.0    0.0    0.0    0.0    0.0    0.0    0.0    0.0    0.0    0.0    0.0    0.0    0.0    0.0    0.0    0.0    ;\n",
            "0.0    0.0    0.0    0.0    0.0    0.0    0.0    0.0    0.0    0.0    0.0    0.0    0.0    0.0    0.0    0.0    0.0    0.0    0.0    0.0    -0.7592324728212779    -0.3379407651290785    0.0    0.0    0.0    0.0    0.0    0.0    0.0    0.0    0.0    0.0    0.0    0.0    0.0    0.0    0.0    0.0    0.0    0.0    0.0    0.0    0.0    0.0    0.0    0.0    0.0    0.0    0.0    0.0    ;\n",
            "0.0    0.0    0.0    0.0    0.0    0.0    0.0    0.0    0.0    0.0    0.0    0.0    0.0    0.0    0.0    0.0    0.0    0.0    0.0    0.0    0.0    0.0    0.0    1.0    0.0    0.0    0.0    0.0    0.0    0.0    0.0    0.0    0.0    0.0    0.0    0.0    0.0    0.0    0.0    0.0    0.0    0.0    0.0    0.0    0.0    0.0    0.0    0.0    0.0    0.0    ;\n",
            "0.0    0.0    0.0    0.0    0.0    0.0    0.0    0.0    0.0    0.0    0.0    0.0    0.0    0.0    0.0    0.0    0.0    0.0    0.0    0.0    0.0    0.0    -36.87189083455492    -0.5077675330022922    0.0    0.0    0.0    0.0    0.0    0.0    0.0    0.0    0.0    0.0    0.0    0.0    0.0    0.0    0.0    0.0    0.0    0.0    0.0    0.0    0.0    0.0    0.0    0.0    0.0    0.0    ;\n",
            "0.0    0.0    0.0    0.0    0.0    0.0    0.0    0.0    0.0    0.0    0.0    0.0    0.0    0.0    0.0    0.0    0.0    0.0    0.0    0.0    0.0    0.0    0.0    0.0    0.0    1.0    0.0    0.0    0.0    0.0    0.0    0.0    0.0    0.0    0.0    0.0    0.0    0.0    0.0    0.0    0.0    0.0    0.0    0.0    0.0    0.0    0.0    0.0    0.0    0.0    ;\n",
            "0.0    0.0    0.0    0.0    0.0    0.0    0.0    0.0    0.0    0.0    0.0    0.0    0.0    0.0    0.0    0.0    0.0    0.0    0.0    0.0    0.0    0.0    0.0    0.0    -319.03465313853013    -0.5786600434461536    0.0    0.0    0.0    0.0    0.0    0.0    0.0    0.0    0.0    0.0    0.0    0.0    0.0    0.0    0.0    0.0    0.0    0.0    0.0    0.0    0.0    0.0    0.0    0.0    ;\n",
            "0.0    0.0    0.0    0.0    0.0    0.0    0.0    0.0    0.0    0.0    0.0    0.0    0.0    0.0    0.0    0.0    0.0    0.0    0.0    0.0    0.0    0.0    0.0    0.0    0.0    0.0    0.0    1.0    0.0    0.0    0.0    0.0    0.0    0.0    0.0    0.0    0.0    0.0    0.0    0.0    0.0    0.0    0.0    0.0    0.0    0.0    0.0    0.0    0.0    0.0    ;\n",
            "0.0    0.0    0.0    0.0    0.0    0.0    0.0    0.0    0.0    0.0    0.0    0.0    0.0    0.0    0.0    0.0    0.0    0.0    0.0    0.0    0.0    0.0    0.0    0.0    0.0    0.0    -1301.889508059475    -0.6689077581016996    0.0    0.0    0.0    0.0    0.0    0.0    0.0    0.0    0.0    0.0    0.0    0.0    0.0    0.0    0.0    0.0    0.0    0.0    0.0    0.0    0.0    0.0    ;\n",
            "0.0    0.0    0.0    0.0    0.0    0.0    0.0    0.0    0.0    0.0    0.0    0.0    0.0    0.0    0.0    0.0    0.0    0.0    0.0    0.0    0.0    0.0    0.0    0.0    0.0    0.0    0.0    0.0    0.0    1.0    0.0    0.0    0.0    0.0    0.0    0.0    0.0    0.0    0.0    0.0    0.0    0.0    0.0    0.0    0.0    0.0    0.0    0.0    0.0    0.0    ;\n",
            "0.0    0.0    0.0    0.0    0.0    0.0    0.0    0.0    0.0    0.0    0.0    0.0    0.0    0.0    0.0    0.0    0.0    0.0    0.0    0.0    0.0    0.0    0.0    0.0    0.0    0.0    0.0    0.0    -3701.4942345517898    -0.8438003856644917    0.0    0.0    0.0    0.0    0.0    0.0    0.0    0.0    0.0    0.0    0.0    0.0    0.0    0.0    0.0    0.0    0.0    0.0    0.0    0.0    ;\n",
            "0.0    0.0    0.0    0.0    0.0    0.0    0.0    0.0    0.0    0.0    0.0    0.0    0.0    0.0    0.0    0.0    0.0    0.0    0.0    0.0    0.0    0.0    0.0    0.0    0.0    0.0    0.0    0.0    0.0    0.0    0.0    1.0    0.0    0.0    0.0    0.0    0.0    0.0    0.0    0.0    0.0    0.0    0.0    0.0    0.0    0.0    0.0    0.0    0.0    0.0    ;\n",
            "0.0    0.0    0.0    0.0    0.0    0.0    0.0    0.0    0.0    0.0    0.0    0.0    0.0    0.0    0.0    0.0    0.0    0.0    0.0    0.0    0.0    0.0    0.0    0.0    0.0    0.0    0.0    0.0    0.0    0.0    -0.7592324728212779    -0.3379407651290785    0.0    0.0    0.0    0.0    0.0    0.0    0.0    0.0    0.0    0.0    0.0    0.0    0.0    0.0    0.0    0.0    0.0    0.0    ;\n",
            "0.0    0.0    0.0    0.0    0.0    0.0    0.0    0.0    0.0    0.0    0.0    0.0    0.0    0.0    0.0    0.0    0.0    0.0    0.0    0.0    0.0    0.0    0.0    0.0    0.0    0.0    0.0    0.0    0.0    0.0    0.0    0.0    0.0    1.0    0.0    0.0    0.0    0.0    0.0    0.0    0.0    0.0    0.0    0.0    0.0    0.0    0.0    0.0    0.0    0.0    ;\n",
            "0.0    0.0    0.0    0.0    0.0    0.0    0.0    0.0    0.0    0.0    0.0    0.0    0.0    0.0    0.0    0.0    0.0    0.0    0.0    0.0    0.0    0.0    0.0    0.0    0.0    0.0    0.0    0.0    0.0    0.0    0.0    0.0    -36.87189083455492    -0.5077675330022922    0.0    0.0    0.0    0.0    0.0    0.0    0.0    0.0    0.0    0.0    0.0    0.0    0.0    0.0    0.0    0.0    ;\n",
            "0.0    0.0    0.0    0.0    0.0    0.0    0.0    0.0    0.0    0.0    0.0    0.0    0.0    0.0    0.0    0.0    0.0    0.0    0.0    0.0    0.0    0.0    0.0    0.0    0.0    0.0    0.0    0.0    0.0    0.0    0.0    0.0    0.0    0.0    0.0    1.0    0.0    0.0    0.0    0.0    0.0    0.0    0.0    0.0    0.0    0.0    0.0    0.0    0.0    0.0    ;\n",
            "0.0    0.0    0.0    0.0    0.0    0.0    0.0    0.0    0.0    0.0    0.0    0.0    0.0    0.0    0.0    0.0    0.0    0.0    0.0    0.0    0.0    0.0    0.0    0.0    0.0    0.0    0.0    0.0    0.0    0.0    0.0    0.0    0.0    0.0    -319.03465313853013    -0.5786600434461536    0.0    0.0    0.0    0.0    0.0    0.0    0.0    0.0    0.0    0.0    0.0    0.0    0.0    0.0    ;\n",
            "0.0    0.0    0.0    0.0    0.0    0.0    0.0    0.0    0.0    0.0    0.0    0.0    0.0    0.0    0.0    0.0    0.0    0.0    0.0    0.0    0.0    0.0    0.0    0.0    0.0    0.0    0.0    0.0    0.0    0.0    0.0    0.0    0.0    0.0    0.0    0.0    0.0    1.0    0.0    0.0    0.0    0.0    0.0    0.0    0.0    0.0    0.0    0.0    0.0    0.0    ;\n",
            "0.0    0.0    0.0    0.0    0.0    0.0    0.0    0.0    0.0    0.0    0.0    0.0    0.0    0.0    0.0    0.0    0.0    0.0    0.0    0.0    0.0    0.0    0.0    0.0    0.0    0.0    0.0    0.0    0.0    0.0    0.0    0.0    0.0    0.0    0.0    0.0    -1301.889508059475    -0.6689077581016996    0.0    0.0    0.0    0.0    0.0    0.0    0.0    0.0    0.0    0.0    0.0    0.0    ;\n",
            "0.0    0.0    0.0    0.0    0.0    0.0    0.0    0.0    0.0    0.0    0.0    0.0    0.0    0.0    0.0    0.0    0.0    0.0    0.0    0.0    0.0    0.0    0.0    0.0    0.0    0.0    0.0    0.0    0.0    0.0    0.0    0.0    0.0    0.0    0.0    0.0    0.0    0.0    0.0    1.0    0.0    0.0    0.0    0.0    0.0    0.0    0.0    0.0    0.0    0.0    ;\n",
            "0.0    0.0    0.0    0.0    0.0    0.0    0.0    0.0    0.0    0.0    0.0    0.0    0.0    0.0    0.0    0.0    0.0    0.0    0.0    0.0    0.0    0.0    0.0    0.0    0.0    0.0    0.0    0.0    0.0    0.0    0.0    0.0    0.0    0.0    0.0    0.0    0.0    0.0    -3701.4942345517898    -0.8438003856644917    0.0    0.0    0.0    0.0    0.0    0.0    0.0    0.0    0.0    0.0    ;\n",
            "0.0    0.0    0.0    0.0    0.0    0.0    0.0    0.0    0.0    0.0    0.0    0.0    0.0    0.0    0.0    0.0    0.0    0.0    0.0    0.0    0.0    0.0    0.0    0.0    0.0    0.0    0.0    0.0    0.0    0.0    0.0    0.0    0.0    0.0    0.0    0.0    0.0    0.0    0.0    0.0    0.0    1.0    0.0    0.0    0.0    0.0    0.0    0.0    0.0    0.0    ;\n",
            "0.0    0.0    0.0    0.0    0.0    0.0    0.0    0.0    0.0    0.0    0.0    0.0    0.0    0.0    0.0    0.0    0.0    0.0    0.0    0.0    0.0    0.0    0.0    0.0    0.0    0.0    0.0    0.0    0.0    0.0    0.0    0.0    0.0    0.0    0.0    0.0    0.0    0.0    0.0    0.0    -0.7592324728212779    -0.3379407651290785    0.0    0.0    0.0    0.0    0.0    0.0    0.0    0.0    ;\n",
            "0.0    0.0    0.0    0.0    0.0    0.0    0.0    0.0    0.0    0.0    0.0    0.0    0.0    0.0    0.0    0.0    0.0    0.0    0.0    0.0    0.0    0.0    0.0    0.0    0.0    0.0    0.0    0.0    0.0    0.0    0.0    0.0    0.0    0.0    0.0    0.0    0.0    0.0    0.0    0.0    0.0    0.0    0.0    1.0    0.0    0.0    0.0    0.0    0.0    0.0    ;\n",
            "0.0    0.0    0.0    0.0    0.0    0.0    0.0    0.0    0.0    0.0    0.0    0.0    0.0    0.0    0.0    0.0    0.0    0.0    0.0    0.0    0.0    0.0    0.0    0.0    0.0    0.0    0.0    0.0    0.0    0.0    0.0    0.0    0.0    0.0    0.0    0.0    0.0    0.0    0.0    0.0    0.0    0.0    -36.87189083455492    -0.5077675330022922    0.0    0.0    0.0    0.0    0.0    0.0    ;\n",
            "0.0    0.0    0.0    0.0    0.0    0.0    0.0    0.0    0.0    0.0    0.0    0.0    0.0    0.0    0.0    0.0    0.0    0.0    0.0    0.0    0.0    0.0    0.0    0.0    0.0    0.0    0.0    0.0    0.0    0.0    0.0    0.0    0.0    0.0    0.0    0.0    0.0    0.0    0.0    0.0    0.0    0.0    0.0    0.0    0.0    1.0    0.0    0.0    0.0    0.0    ;\n",
            "0.0    0.0    0.0    0.0    0.0    0.0    0.0    0.0    0.0    0.0    0.0    0.0    0.0    0.0    0.0    0.0    0.0    0.0    0.0    0.0    0.0    0.0    0.0    0.0    0.0    0.0    0.0    0.0    0.0    0.0    0.0    0.0    0.0    0.0    0.0    0.0    0.0    0.0    0.0    0.0    0.0    0.0    0.0    0.0    -319.03465313853013    -0.5786600434461536    0.0    0.0    0.0    0.0    ;\n",
            "0.0    0.0    0.0    0.0    0.0    0.0    0.0    0.0    0.0    0.0    0.0    0.0    0.0    0.0    0.0    0.0    0.0    0.0    0.0    0.0    0.0    0.0    0.0    0.0    0.0    0.0    0.0    0.0    0.0    0.0    0.0    0.0    0.0    0.0    0.0    0.0    0.0    0.0    0.0    0.0    0.0    0.0    0.0    0.0    0.0    0.0    0.0    1.0    0.0    0.0    ;\n",
            "0.0    0.0    0.0    0.0    0.0    0.0    0.0    0.0    0.0    0.0    0.0    0.0    0.0    0.0    0.0    0.0    0.0    0.0    0.0    0.0    0.0    0.0    0.0    0.0    0.0    0.0    0.0    0.0    0.0    0.0    0.0    0.0    0.0    0.0    0.0    0.0    0.0    0.0    0.0    0.0    0.0    0.0    0.0    0.0    0.0    0.0    -1301.889508059475    -0.6689077581016996    0.0    0.0    ;\n",
            "0.0    0.0    0.0    0.0    0.0    0.0    0.0    0.0    0.0    0.0    0.0    0.0    0.0    0.0    0.0    0.0    0.0    0.0    0.0    0.0    0.0    0.0    0.0    0.0    0.0    0.0    0.0    0.0    0.0    0.0    0.0    0.0    0.0    0.0    0.0    0.0    0.0    0.0    0.0    0.0    0.0    0.0    0.0    0.0    0.0    0.0    0.0    0.0    0.0    1.0    ;\n",
            "0.0    0.0    0.0    0.0    0.0    0.0    0.0    0.0    0.0    0.0    0.0    0.0    0.0    0.0    0.0    0.0    0.0    0.0    0.0    0.0    0.0    0.0    0.0    0.0    0.0    0.0    0.0    0.0    0.0    0.0    0.0    0.0    0.0    0.0    0.0    0.0    0.0    0.0    0.0    0.0    0.0    0.0    0.0    0.0    0.0    0.0    0.0    0.0    -3701.4942345517898    -0.8438003856644917    ]\n",
            "\n",
            "\n",
            "\n",
            "\n",
            "PARA A MATRIZ B\n",
            "\n",
            "\n",
            "[0.0    0.0    0.0    ;\n",
            "0.0    0.0    0.0    ;\n",
            "0.0    0.0    0.0    ;\n",
            "0.0    0.0    -0.0    ;\n",
            "0.0    0.0    0.0    ;\n",
            "0.0    -0.0    0.0    ;\n",
            "0.0    0.0    0.0    ;\n",
            "0.0    -0.0    0.0    ;\n",
            "0.0    0.0    0.0    ;\n",
            "0.0    0.0    -0.0    ;\n",
            "0.0    0.0    0.0    ;\n",
            "-4.586511749676717e-08    -9.544643996400786e-08    -3.2426085427367687e-07    ;\n",
            "0.0    0.0    0.0    ;\n",
            "-1.4357725802692349e-06    -8.946031758582021e-09    2.3766831596920637e-06    ;\n",
            "0.0    0.0    0.0    ;\n",
            "-6.6636890371929865e-06    8.692326003571973e-06    -2.0502663325564242e-07    ;\n",
            "0.0    0.0    0.0    ;\n",
            "-1.097381512095174e-05    9.554643145113401e-06    -2.6336996023737534e-05    ;\n",
            "0.0    0.0    0.0    ;\n",
            "-7.145479742393083e-06    -9.774418074507329e-06    2.1784144448441493e-05    ;\n",
            "0.0    0.0    0.0    ;\n",
            "-2.3257252516649528e-07    -4.839891571660371e-07    -1.6442597295513217e-06    ;\n",
            "0.0    0.0    0.0    ;\n",
            "-4.067138832757357e-06    -2.5341585195607154e-08    6.732473167952149e-06    ;\n",
            "0.0    0.0    0.0    ;\n",
            "-2.8112711968580484e-06    3.6671107536908332e-06    -8.649645345743244e-08    ;\n",
            "0.0    0.0    0.0    ;\n",
            "1.4597604378107025e-05    -1.2709791359621634e-05    3.5034037317457105e-05    ;\n",
            "0.0    0.0    0.0    ;\n",
            "5.759527292587031e-06    7.878551153855334e-06    -1.755884545471222e-05    ;\n",
            "0.0    0.0    0.0    ;\n",
            "-8.020776468096805e-07    -1.6691433520929917e-06    -5.670592318152451e-06    ;\n",
            "0.0    0.0    0.0    ;\n",
            "-3.953248623784368e-06    -2.463195649781377e-08    6.543946833461797e-06    ;\n",
            "0.0    0.0    0.0    ;\n",
            "1.6233155809861444e-05    -2.1175040068426228e-05    4.994574723150868e-07    ;\n",
            "0.0    0.0    0.0    ;\n",
            "-1.7502699585616643e-05    1.5239189541056118e-05    -4.2006223388159205e-05    ;\n",
            "0.0    0.0    0.0    ;\n",
            "-2.7766516606193962e-06    -3.7982270129674383e-06    8.465069251974433e-06    ;\n",
            "0.0    0.0    0.0    ;\n",
            "-4.872425625955356e-06    -1.0139637819953717e-05    -3.4447462082019116e-05    ;\n",
            "0.0    0.0    0.0    ;\n",
            "1.8599445946601318e-05    1.1588968644262832e-07    -3.078829514392933e-05    ;\n",
            "0.0    0.0    0.0    ;\n",
            "-3.2877697831888524e-05    4.2886705277905646e-05    -1.011572367504702e-06    ;\n",
            "0.0    0.0    0.0    ;\n",
            "3.991471278285419e-05    -3.4752803166123725e-05    9.579472774637785e-05    ;\n",
            "0.0    0.0    0.0    ;\n",
            "-3.9411802764277584e-05    -5.391204666113248e-05    0.00012015322068535766    ]\n",
            "\n",
            "\n",
            "PARA A MATRIZ C_m\n",
            "\n",
            "\n",
            "[1.0    0.0    0.0    0.0    0.0    0.0    0.0    0.0    0.0    0.0    0.0    0.0    0.0    0.0    0.0    0.0    0.0    0.0    0.0    0.0    0.0    0.0    0.0    0.0    0.0    0.0    0.0    0.0    0.0    0.0    0.0    0.0    0.0    0.0    0.0    0.0    0.0    0.0    0.0    0.0    0.0    0.0    0.0    0.0    0.0    0.0    0.0    0.0    0.0    0.0    ;\n",
            "0.0    1.0    0.0    0.0    0.0    0.0    0.0    0.0    0.0    0.0    0.0    0.0    0.0    0.0    0.0    0.0    0.0    0.0    0.0    0.0    0.0    0.0    0.0    0.0    0.0    0.0    0.0    0.0    0.0    0.0    0.0    0.0    0.0    0.0    0.0    0.0    0.0    0.0    0.0    0.0    0.0    0.0    0.0    0.0    0.0    0.0    0.0    0.0    0.0    0.0    ;\n",
            "0.0    0.0    1.0    0.0    0.0    0.0    0.0    0.0    0.0    0.0    0.0    0.0    0.0    0.0    0.0    0.0    0.0    0.0    0.0    0.0    0.0    0.0    0.0    0.0    0.0    0.0    0.0    0.0    0.0    0.0    0.0    0.0    0.0    0.0    0.0    0.0    0.0    0.0    0.0    0.0    0.0    0.0    0.0    0.0    0.0    0.0    0.0    0.0    0.0    0.0    ;\n",
            "0.0    0.0    0.0    1.0    0.0    0.0    0.0    0.0    0.0    0.0    0.0    0.0    0.0    0.0    0.0    0.0    0.0    0.0    0.0    0.0    0.0    0.0    0.0    0.0    0.0    0.0    0.0    0.0    0.0    0.0    0.0    0.0    0.0    0.0    0.0    0.0    0.0    0.0    0.0    0.0    0.0    0.0    0.0    0.0    0.0    0.0    0.0    0.0    0.0    0.0    ;\n",
            "0.0    0.0    0.0    0.0    1.0    0.0    0.0    0.0    0.0    0.0    0.0    0.0    0.0    0.0    0.0    0.0    0.0    0.0    0.0    0.0    0.0    0.0    0.0    0.0    0.0    0.0    0.0    0.0    0.0    0.0    0.0    0.0    0.0    0.0    0.0    0.0    0.0    0.0    0.0    0.0    0.0    0.0    0.0    0.0    0.0    0.0    0.0    0.0    0.0    0.0    ;\n",
            "0.0    0.0    0.0    0.0    0.0    1.0    0.0    0.0    0.0    0.0    0.0    0.0    0.0    0.0    0.0    0.0    0.0    0.0    0.0    0.0    0.0    0.0    0.0    0.0    0.0    0.0    0.0    0.0    0.0    0.0    0.0    0.0    0.0    0.0    0.0    0.0    0.0    0.0    0.0    0.0    0.0    0.0    0.0    0.0    0.0    0.0    0.0    0.0    0.0    0.0    ;\n",
            "0.0    0.0    0.0    0.0    0.0    0.0    1.0    0.0    0.0    0.0    0.0    0.0    0.0    0.0    0.0    0.0    0.0    0.0    0.0    0.0    0.0    0.0    0.0    0.0    0.0    0.0    0.0    0.0    0.0    0.0    0.0    0.0    0.0    0.0    0.0    0.0    0.0    0.0    0.0    0.0    0.0    0.0    0.0    0.0    0.0    0.0    0.0    0.0    0.0    0.0    ;\n",
            "0.0    0.0    0.0    0.0    0.0    0.0    0.0    1.0    0.0    0.0    0.0    0.0    0.0    0.0    0.0    0.0    0.0    0.0    0.0    0.0    0.0    0.0    0.0    0.0    0.0    0.0    0.0    0.0    0.0    0.0    0.0    0.0    0.0    0.0    0.0    0.0    0.0    0.0    0.0    0.0    0.0    0.0    0.0    0.0    0.0    0.0    0.0    0.0    0.0    0.0    ;\n",
            "0.0    0.0    0.0    0.0    0.0    0.0    0.0    0.0    1.0    0.0    0.0    0.0    0.0    0.0    0.0    0.0    0.0    0.0    0.0    0.0    0.0    0.0    0.0    0.0    0.0    0.0    0.0    0.0    0.0    0.0    0.0    0.0    0.0    0.0    0.0    0.0    0.0    0.0    0.0    0.0    0.0    0.0    0.0    0.0    0.0    0.0    0.0    0.0    0.0    0.0    ;\n",
            "0.0    0.0    0.0    0.0    0.0    0.0    0.0    0.0    0.0    1.0    0.0    0.0    0.0    0.0    0.0    0.0    0.0    0.0    0.0    0.0    0.0    0.0    0.0    0.0    0.0    0.0    0.0    0.0    0.0    0.0    0.0    0.0    0.0    0.0    0.0    0.0    0.0    0.0    0.0    0.0    0.0    0.0    0.0    0.0    0.0    0.0    0.0    0.0    0.0    0.0    ;\n",
            "0.0    0.0    0.0    0.0    0.0    0.0    0.0    0.0    0.0    0.0    1.0    0.0    0.0    0.0    0.0    0.0    0.0    0.0    0.0    0.0    0.0    0.0    0.0    0.0    0.0    0.0    0.0    0.0    0.0    0.0    0.0    0.0    0.0    0.0    0.0    0.0    0.0    0.0    0.0    0.0    0.0    0.0    0.0    0.0    0.0    0.0    0.0    0.0    0.0    0.0    ;\n",
            "0.0    0.0    0.0    0.0    0.0    0.0    0.0    0.0    0.0    0.0    0.0    1.0    0.0    0.0    0.0    0.0    0.0    0.0    0.0    0.0    0.0    0.0    0.0    0.0    0.0    0.0    0.0    0.0    0.0    0.0    0.0    0.0    0.0    0.0    0.0    0.0    0.0    0.0    0.0    0.0    0.0    0.0    0.0    0.0    0.0    0.0    0.0    0.0    0.0    0.0    ;\n",
            "0.0    0.0    0.0    0.0    0.0    0.0    0.0    0.0    0.0    0.0    0.0    0.0    1.0    0.0    0.0    0.0    0.0    0.0    0.0    0.0    0.0    0.0    0.0    0.0    0.0    0.0    0.0    0.0    0.0    0.0    0.0    0.0    0.0    0.0    0.0    0.0    0.0    0.0    0.0    0.0    0.0    0.0    0.0    0.0    0.0    0.0    0.0    0.0    0.0    0.0    ;\n",
            "0.0    0.0    0.0    0.0    0.0    0.0    0.0    0.0    0.0    0.0    0.0    0.0    0.0    1.0    0.0    0.0    0.0    0.0    0.0    0.0    0.0    0.0    0.0    0.0    0.0    0.0    0.0    0.0    0.0    0.0    0.0    0.0    0.0    0.0    0.0    0.0    0.0    0.0    0.0    0.0    0.0    0.0    0.0    0.0    0.0    0.0    0.0    0.0    0.0    0.0    ;\n",
            "0.0    0.0    0.0    0.0    0.0    0.0    0.0    0.0    0.0    0.0    0.0    0.0    0.0    0.0    1.0    0.0    0.0    0.0    0.0    0.0    0.0    0.0    0.0    0.0    0.0    0.0    0.0    0.0    0.0    0.0    0.0    0.0    0.0    0.0    0.0    0.0    0.0    0.0    0.0    0.0    0.0    0.0    0.0    0.0    0.0    0.0    0.0    0.0    0.0    0.0    ;\n",
            "0.0    0.0    0.0    0.0    0.0    0.0    0.0    0.0    0.0    0.0    0.0    0.0    0.0    0.0    0.0    1.0    0.0    0.0    0.0    0.0    0.0    0.0    0.0    0.0    0.0    0.0    0.0    0.0    0.0    0.0    0.0    0.0    0.0    0.0    0.0    0.0    0.0    0.0    0.0    0.0    0.0    0.0    0.0    0.0    0.0    0.0    0.0    0.0    0.0    0.0    ;\n",
            "0.0    0.0    0.0    0.0    0.0    0.0    0.0    0.0    0.0    0.0    0.0    0.0    0.0    0.0    0.0    0.0    1.0    0.0    0.0    0.0    0.0    0.0    0.0    0.0    0.0    0.0    0.0    0.0    0.0    0.0    0.0    0.0    0.0    0.0    0.0    0.0    0.0    0.0    0.0    0.0    0.0    0.0    0.0    0.0    0.0    0.0    0.0    0.0    0.0    0.0    ;\n",
            "0.0    0.0    0.0    0.0    0.0    0.0    0.0    0.0    0.0    0.0    0.0    0.0    0.0    0.0    0.0    0.0    0.0    1.0    0.0    0.0    0.0    0.0    0.0    0.0    0.0    0.0    0.0    0.0    0.0    0.0    0.0    0.0    0.0    0.0    0.0    0.0    0.0    0.0    0.0    0.0    0.0    0.0    0.0    0.0    0.0    0.0    0.0    0.0    0.0    0.0    ;\n",
            "0.0    0.0    0.0    0.0    0.0    0.0    0.0    0.0    0.0    0.0    0.0    0.0    0.0    0.0    0.0    0.0    0.0    0.0    1.0    0.0    0.0    0.0    0.0    0.0    0.0    0.0    0.0    0.0    0.0    0.0    0.0    0.0    0.0    0.0    0.0    0.0    0.0    0.0    0.0    0.0    0.0    0.0    0.0    0.0    0.0    0.0    0.0    0.0    0.0    0.0    ;\n",
            "0.0    0.0    0.0    0.0    0.0    0.0    0.0    0.0    0.0    0.0    0.0    0.0    0.0    0.0    0.0    0.0    0.0    0.0    0.0    1.0    0.0    0.0    0.0    0.0    0.0    0.0    0.0    0.0    0.0    0.0    0.0    0.0    0.0    0.0    0.0    0.0    0.0    0.0    0.0    0.0    0.0    0.0    0.0    0.0    0.0    0.0    0.0    0.0    0.0    0.0    ;\n",
            "0.0    0.0    0.0    0.0    0.0    0.0    0.0    0.0    0.0    0.0    0.0    0.0    0.0    0.0    0.0    0.0    0.0    0.0    0.0    0.0    1.0    0.0    0.0    0.0    0.0    0.0    0.0    0.0    0.0    0.0    0.0    0.0    0.0    0.0    0.0    0.0    0.0    0.0    0.0    0.0    0.0    0.0    0.0    0.0    0.0    0.0    0.0    0.0    0.0    0.0    ;\n",
            "0.0    0.0    0.0    0.0    0.0    0.0    0.0    0.0    0.0    0.0    0.0    0.0    0.0    0.0    0.0    0.0    0.0    0.0    0.0    0.0    0.0    1.0    0.0    0.0    0.0    0.0    0.0    0.0    0.0    0.0    0.0    0.0    0.0    0.0    0.0    0.0    0.0    0.0    0.0    0.0    0.0    0.0    0.0    0.0    0.0    0.0    0.0    0.0    0.0    0.0    ;\n",
            "0.0    0.0    0.0    0.0    0.0    0.0    0.0    0.0    0.0    0.0    0.0    0.0    0.0    0.0    0.0    0.0    0.0    0.0    0.0    0.0    0.0    0.0    1.0    0.0    0.0    0.0    0.0    0.0    0.0    0.0    0.0    0.0    0.0    0.0    0.0    0.0    0.0    0.0    0.0    0.0    0.0    0.0    0.0    0.0    0.0    0.0    0.0    0.0    0.0    0.0    ;\n",
            "0.0    0.0    0.0    0.0    0.0    0.0    0.0    0.0    0.0    0.0    0.0    0.0    0.0    0.0    0.0    0.0    0.0    0.0    0.0    0.0    0.0    0.0    0.0    1.0    0.0    0.0    0.0    0.0    0.0    0.0    0.0    0.0    0.0    0.0    0.0    0.0    0.0    0.0    0.0    0.0    0.0    0.0    0.0    0.0    0.0    0.0    0.0    0.0    0.0    0.0    ;\n",
            "0.0    0.0    0.0    0.0    0.0    0.0    0.0    0.0    0.0    0.0    0.0    0.0    0.0    0.0    0.0    0.0    0.0    0.0    0.0    0.0    0.0    0.0    0.0    0.0    1.0    0.0    0.0    0.0    0.0    0.0    0.0    0.0    0.0    0.0    0.0    0.0    0.0    0.0    0.0    0.0    0.0    0.0    0.0    0.0    0.0    0.0    0.0    0.0    0.0    0.0    ;\n",
            "0.0    0.0    0.0    0.0    0.0    0.0    0.0    0.0    0.0    0.0    0.0    0.0    0.0    0.0    0.0    0.0    0.0    0.0    0.0    0.0    0.0    0.0    0.0    0.0    0.0    1.0    0.0    0.0    0.0    0.0    0.0    0.0    0.0    0.0    0.0    0.0    0.0    0.0    0.0    0.0    0.0    0.0    0.0    0.0    0.0    0.0    0.0    0.0    0.0    0.0    ;\n",
            "0.0    0.0    0.0    0.0    0.0    0.0    0.0    0.0    0.0    0.0    0.0    0.0    0.0    0.0    0.0    0.0    0.0    0.0    0.0    0.0    0.0    0.0    0.0    0.0    0.0    0.0    1.0    0.0    0.0    0.0    0.0    0.0    0.0    0.0    0.0    0.0    0.0    0.0    0.0    0.0    0.0    0.0    0.0    0.0    0.0    0.0    0.0    0.0    0.0    0.0    ;\n",
            "0.0    0.0    0.0    0.0    0.0    0.0    0.0    0.0    0.0    0.0    0.0    0.0    0.0    0.0    0.0    0.0    0.0    0.0    0.0    0.0    0.0    0.0    0.0    0.0    0.0    0.0    0.0    1.0    0.0    0.0    0.0    0.0    0.0    0.0    0.0    0.0    0.0    0.0    0.0    0.0    0.0    0.0    0.0    0.0    0.0    0.0    0.0    0.0    0.0    0.0    ;\n",
            "0.0    0.0    0.0    0.0    0.0    0.0    0.0    0.0    0.0    0.0    0.0    0.0    0.0    0.0    0.0    0.0    0.0    0.0    0.0    0.0    0.0    0.0    0.0    0.0    0.0    0.0    0.0    0.0    1.0    0.0    0.0    0.0    0.0    0.0    0.0    0.0    0.0    0.0    0.0    0.0    0.0    0.0    0.0    0.0    0.0    0.0    0.0    0.0    0.0    0.0    ;\n",
            "0.0    0.0    0.0    0.0    0.0    0.0    0.0    0.0    0.0    0.0    0.0    0.0    0.0    0.0    0.0    0.0    0.0    0.0    0.0    0.0    0.0    0.0    0.0    0.0    0.0    0.0    0.0    0.0    0.0    1.0    0.0    0.0    0.0    0.0    0.0    0.0    0.0    0.0    0.0    0.0    0.0    0.0    0.0    0.0    0.0    0.0    0.0    0.0    0.0    0.0    ;\n",
            "0.0    0.0    0.0    0.0    0.0    0.0    0.0    0.0    0.0    0.0    0.0    0.0    0.0    0.0    0.0    0.0    0.0    0.0    0.0    0.0    0.0    0.0    0.0    0.0    0.0    0.0    0.0    0.0    0.0    0.0    1.0    0.0    0.0    0.0    0.0    0.0    0.0    0.0    0.0    0.0    0.0    0.0    0.0    0.0    0.0    0.0    0.0    0.0    0.0    0.0    ;\n",
            "0.0    0.0    0.0    0.0    0.0    0.0    0.0    0.0    0.0    0.0    0.0    0.0    0.0    0.0    0.0    0.0    0.0    0.0    0.0    0.0    0.0    0.0    0.0    0.0    0.0    0.0    0.0    0.0    0.0    0.0    0.0    1.0    0.0    0.0    0.0    0.0    0.0    0.0    0.0    0.0    0.0    0.0    0.0    0.0    0.0    0.0    0.0    0.0    0.0    0.0    ;\n",
            "0.0    0.0    0.0    0.0    0.0    0.0    0.0    0.0    0.0    0.0    0.0    0.0    0.0    0.0    0.0    0.0    0.0    0.0    0.0    0.0    0.0    0.0    0.0    0.0    0.0    0.0    0.0    0.0    0.0    0.0    0.0    0.0    1.0    0.0    0.0    0.0    0.0    0.0    0.0    0.0    0.0    0.0    0.0    0.0    0.0    0.0    0.0    0.0    0.0    0.0    ;\n",
            "0.0    0.0    0.0    0.0    0.0    0.0    0.0    0.0    0.0    0.0    0.0    0.0    0.0    0.0    0.0    0.0    0.0    0.0    0.0    0.0    0.0    0.0    0.0    0.0    0.0    0.0    0.0    0.0    0.0    0.0    0.0    0.0    0.0    1.0    0.0    0.0    0.0    0.0    0.0    0.0    0.0    0.0    0.0    0.0    0.0    0.0    0.0    0.0    0.0    0.0    ;\n",
            "0.0    0.0    0.0    0.0    0.0    0.0    0.0    0.0    0.0    0.0    0.0    0.0    0.0    0.0    0.0    0.0    0.0    0.0    0.0    0.0    0.0    0.0    0.0    0.0    0.0    0.0    0.0    0.0    0.0    0.0    0.0    0.0    0.0    0.0    1.0    0.0    0.0    0.0    0.0    0.0    0.0    0.0    0.0    0.0    0.0    0.0    0.0    0.0    0.0    0.0    ;\n",
            "0.0    0.0    0.0    0.0    0.0    0.0    0.0    0.0    0.0    0.0    0.0    0.0    0.0    0.0    0.0    0.0    0.0    0.0    0.0    0.0    0.0    0.0    0.0    0.0    0.0    0.0    0.0    0.0    0.0    0.0    0.0    0.0    0.0    0.0    0.0    1.0    0.0    0.0    0.0    0.0    0.0    0.0    0.0    0.0    0.0    0.0    0.0    0.0    0.0    0.0    ;\n",
            "0.0    0.0    0.0    0.0    0.0    0.0    0.0    0.0    0.0    0.0    0.0    0.0    0.0    0.0    0.0    0.0    0.0    0.0    0.0    0.0    0.0    0.0    0.0    0.0    0.0    0.0    0.0    0.0    0.0    0.0    0.0    0.0    0.0    0.0    0.0    0.0    1.0    0.0    0.0    0.0    0.0    0.0    0.0    0.0    0.0    0.0    0.0    0.0    0.0    0.0    ;\n",
            "0.0    0.0    0.0    0.0    0.0    0.0    0.0    0.0    0.0    0.0    0.0    0.0    0.0    0.0    0.0    0.0    0.0    0.0    0.0    0.0    0.0    0.0    0.0    0.0    0.0    0.0    0.0    0.0    0.0    0.0    0.0    0.0    0.0    0.0    0.0    0.0    0.0    1.0    0.0    0.0    0.0    0.0    0.0    0.0    0.0    0.0    0.0    0.0    0.0    0.0    ;\n",
            "0.0    0.0    0.0    0.0    0.0    0.0    0.0    0.0    0.0    0.0    0.0    0.0    0.0    0.0    0.0    0.0    0.0    0.0    0.0    0.0    0.0    0.0    0.0    0.0    0.0    0.0    0.0    0.0    0.0    0.0    0.0    0.0    0.0    0.0    0.0    0.0    0.0    0.0    1.0    0.0    0.0    0.0    0.0    0.0    0.0    0.0    0.0    0.0    0.0    0.0    ;\n",
            "0.0    0.0    0.0    0.0    0.0    0.0    0.0    0.0    0.0    0.0    0.0    0.0    0.0    0.0    0.0    0.0    0.0    0.0    0.0    0.0    0.0    0.0    0.0    0.0    0.0    0.0    0.0    0.0    0.0    0.0    0.0    0.0    0.0    0.0    0.0    0.0    0.0    0.0    0.0    1.0    0.0    0.0    0.0    0.0    0.0    0.0    0.0    0.0    0.0    0.0    ;\n",
            "0.0    0.0    0.0    0.0    0.0    0.0    0.0    0.0    0.0    0.0    0.0    0.0    0.0    0.0    0.0    0.0    0.0    0.0    0.0    0.0    0.0    0.0    0.0    0.0    0.0    0.0    0.0    0.0    0.0    0.0    0.0    0.0    0.0    0.0    0.0    0.0    0.0    0.0    0.0    0.0    1.0    0.0    0.0    0.0    0.0    0.0    0.0    0.0    0.0    0.0    ;\n",
            "0.0    0.0    0.0    0.0    0.0    0.0    0.0    0.0    0.0    0.0    0.0    0.0    0.0    0.0    0.0    0.0    0.0    0.0    0.0    0.0    0.0    0.0    0.0    0.0    0.0    0.0    0.0    0.0    0.0    0.0    0.0    0.0    0.0    0.0    0.0    0.0    0.0    0.0    0.0    0.0    0.0    1.0    0.0    0.0    0.0    0.0    0.0    0.0    0.0    0.0    ;\n",
            "0.0    0.0    0.0    0.0    0.0    0.0    0.0    0.0    0.0    0.0    0.0    0.0    0.0    0.0    0.0    0.0    0.0    0.0    0.0    0.0    0.0    0.0    0.0    0.0    0.0    0.0    0.0    0.0    0.0    0.0    0.0    0.0    0.0    0.0    0.0    0.0    0.0    0.0    0.0    0.0    0.0    0.0    1.0    0.0    0.0    0.0    0.0    0.0    0.0    0.0    ;\n",
            "0.0    0.0    0.0    0.0    0.0    0.0    0.0    0.0    0.0    0.0    0.0    0.0    0.0    0.0    0.0    0.0    0.0    0.0    0.0    0.0    0.0    0.0    0.0    0.0    0.0    0.0    0.0    0.0    0.0    0.0    0.0    0.0    0.0    0.0    0.0    0.0    0.0    0.0    0.0    0.0    0.0    0.0    0.0    1.0    0.0    0.0    0.0    0.0    0.0    0.0    ;\n",
            "0.0    0.0    0.0    0.0    0.0    0.0    0.0    0.0    0.0    0.0    0.0    0.0    0.0    0.0    0.0    0.0    0.0    0.0    0.0    0.0    0.0    0.0    0.0    0.0    0.0    0.0    0.0    0.0    0.0    0.0    0.0    0.0    0.0    0.0    0.0    0.0    0.0    0.0    0.0    0.0    0.0    0.0    0.0    0.0    1.0    0.0    0.0    0.0    0.0    0.0    ;\n",
            "0.0    0.0    0.0    0.0    0.0    0.0    0.0    0.0    0.0    0.0    0.0    0.0    0.0    0.0    0.0    0.0    0.0    0.0    0.0    0.0    0.0    0.0    0.0    0.0    0.0    0.0    0.0    0.0    0.0    0.0    0.0    0.0    0.0    0.0    0.0    0.0    0.0    0.0    0.0    0.0    0.0    0.0    0.0    0.0    0.0    1.0    0.0    0.0    0.0    0.0    ;\n",
            "0.0    0.0    0.0    0.0    0.0    0.0    0.0    0.0    0.0    0.0    0.0    0.0    0.0    0.0    0.0    0.0    0.0    0.0    0.0    0.0    0.0    0.0    0.0    0.0    0.0    0.0    0.0    0.0    0.0    0.0    0.0    0.0    0.0    0.0    0.0    0.0    0.0    0.0    0.0    0.0    0.0    0.0    0.0    0.0    0.0    0.0    1.0    0.0    0.0    0.0    ;\n",
            "0.0    0.0    0.0    0.0    0.0    0.0    0.0    0.0    0.0    0.0    0.0    0.0    0.0    0.0    0.0    0.0    0.0    0.0    0.0    0.0    0.0    0.0    0.0    0.0    0.0    0.0    0.0    0.0    0.0    0.0    0.0    0.0    0.0    0.0    0.0    0.0    0.0    0.0    0.0    0.0    0.0    0.0    0.0    0.0    0.0    0.0    0.0    1.0    0.0    0.0    ;\n",
            "0.0    0.0    0.0    0.0    0.0    0.0    0.0    0.0    0.0    0.0    0.0    0.0    0.0    0.0    0.0    0.0    0.0    0.0    0.0    0.0    0.0    0.0    0.0    0.0    0.0    0.0    0.0    0.0    0.0    0.0    0.0    0.0    0.0    0.0    0.0    0.0    0.0    0.0    0.0    0.0    0.0    0.0    0.0    0.0    0.0    0.0    0.0    0.0    1.0    0.0    ;\n",
            "0.0    0.0    0.0    0.0    0.0    0.0    0.0    0.0    0.0    0.0    0.0    0.0    0.0    0.0    0.0    0.0    0.0    0.0    0.0    0.0    0.0    0.0    0.0    0.0    0.0    0.0    0.0    0.0    0.0    0.0    0.0    0.0    0.0    0.0    0.0    0.0    0.0    0.0    0.0    0.0    0.0    0.0    0.0    0.0    0.0    0.0    0.0    0.0    0.0    1.0    ]\n",
            "\n",
            "\n",
            "PARA A MATRIZ D_m\n",
            "\n",
            "\n",
            "[0.0    0.0    0.0    ;\n",
            "0.0    0.0    0.0    ;\n",
            "0.0    0.0    0.0    ;\n",
            "0.0    0.0    0.0    ;\n",
            "0.0    0.0    0.0    ;\n",
            "0.0    0.0    0.0    ;\n",
            "0.0    0.0    0.0    ;\n",
            "0.0    0.0    0.0    ;\n",
            "0.0    0.0    0.0    ;\n",
            "0.0    0.0    0.0    ;\n",
            "0.0    0.0    0.0    ;\n",
            "0.0    0.0    0.0    ;\n",
            "0.0    0.0    0.0    ;\n",
            "0.0    0.0    0.0    ;\n",
            "0.0    0.0    0.0    ;\n",
            "0.0    0.0    0.0    ;\n",
            "0.0    0.0    0.0    ;\n",
            "0.0    0.0    0.0    ;\n",
            "0.0    0.0    0.0    ;\n",
            "0.0    0.0    0.0    ;\n",
            "0.0    0.0    0.0    ;\n",
            "0.0    0.0    0.0    ;\n",
            "0.0    0.0    0.0    ;\n",
            "0.0    0.0    0.0    ;\n",
            "0.0    0.0    0.0    ;\n",
            "0.0    0.0    0.0    ;\n",
            "0.0    0.0    0.0    ;\n",
            "0.0    0.0    0.0    ;\n",
            "0.0    0.0    0.0    ;\n",
            "0.0    0.0    0.0    ;\n",
            "0.0    0.0    0.0    ;\n",
            "0.0    0.0    0.0    ;\n",
            "0.0    0.0    0.0    ;\n",
            "0.0    0.0    0.0    ;\n",
            "0.0    0.0    0.0    ;\n",
            "0.0    0.0    0.0    ;\n",
            "0.0    0.0    0.0    ;\n",
            "0.0    0.0    0.0    ;\n",
            "0.0    0.0    0.0    ;\n",
            "0.0    0.0    0.0    ;\n",
            "0.0    0.0    0.0    ;\n",
            "0.0    0.0    0.0    ;\n",
            "0.0    0.0    0.0    ;\n",
            "0.0    0.0    0.0    ;\n",
            "0.0    0.0    0.0    ;\n",
            "0.0    0.0    0.0    ;\n",
            "0.0    0.0    0.0    ;\n",
            "0.0    0.0    0.0    ;\n",
            "0.0    0.0    0.0    ;\n",
            "0.0    0.0    0.0    ]\n",
            "\n",
            "\n",
            "PARA A MATRIZ C\n",
            "\n",
            "\n",
            "[1.0    0.0    1.0    0.0    1.0    0.0    1.0    0.0    1.0    0.0    0.0    0.0    0.0    0.0    0.0    0.0    0.0    0.0    0.0    0.0    0.0    0.0    0.0    0.0    0.0    0.0    0.0    0.0    0.0    0.0    0.0    0.0    0.0    0.0    0.0    0.0    0.0    0.0    0.0    0.0    0.0    0.0    0.0    0.0    0.0    0.0    0.0    0.0    0.0    0.0    ;\n",
            "0.0    0.0    0.0    0.0    0.0    0.0    0.0    0.0    0.0    0.0    1.0    0.0    1.0    0.0    1.0    0.0    1.0    0.0    1.0    0.0    0.0    0.0    0.0    0.0    0.0    0.0    0.0    0.0    0.0    0.0    0.0    0.0    0.0    0.0    0.0    0.0    0.0    0.0    0.0    0.0    0.0    0.0    0.0    0.0    0.0    0.0    0.0    0.0    0.0    0.0    ;\n",
            "0.0    0.0    0.0    0.0    0.0    0.0    0.0    0.0    0.0    0.0    0.0    0.0    0.0    0.0    0.0    0.0    0.0    0.0    0.0    0.0    1.0    0.0    1.0    0.0    1.0    0.0    1.0    0.0    1.0    0.0    0.0    0.0    0.0    0.0    0.0    0.0    0.0    0.0    0.0    0.0    0.0    0.0    0.0    0.0    0.0    0.0    0.0    0.0    0.0    0.0    ;\n",
            "0.0    0.0    0.0    0.0    0.0    0.0    0.0    0.0    0.0    0.0    0.0    0.0    0.0    0.0    0.0    0.0    0.0    0.0    0.0    0.0    0.0    0.0    0.0    0.0    0.0    0.0    0.0    0.0    0.0    0.0    1.0    0.0    1.0    0.0    1.0    0.0    1.0    0.0    1.0    0.0    0.0    0.0    0.0    0.0    0.0    0.0    0.0    0.0    0.0    0.0    ;\n",
            "0.0    0.0    0.0    0.0    0.0    0.0    0.0    0.0    0.0    0.0    0.0    0.0    0.0    0.0    0.0    0.0    0.0    0.0    0.0    0.0    0.0    0.0    0.0    0.0    0.0    0.0    0.0    0.0    0.0    0.0    0.0    0.0    0.0    0.0    0.0    0.0    0.0    0.0    0.0    0.0    1.0    0.0    1.0    0.0    1.0    0.0    1.0    0.0    1.0    0.0    ]\n",
            "\n",
            "\n",
            "PARA A MATRIZ D\n",
            "\n",
            "\n",
            "[0    0    0    ;\n",
            "0    0    0    ;\n",
            "0    0    0    ;\n",
            "0    0    0    ;\n",
            "0    0    0    ]\n"
          ],
          "name": "stdout"
        }
      ]
    },
    {
      "cell_type": "code",
      "metadata": {
        "colab": {
          "base_uri": "https://localhost:8080/"
        },
        "id": "RV0Bv2oVs8lR",
        "outputId": "f655f37d-dae2-4711-a299-4d15e0bfd628"
      },
      "source": [
        "wr"
      ],
      "execution_count": null,
      "outputs": [
        {
          "output_type": "execute_result",
          "data": {
            "text/plain": [
              "array([ 0.87133947,  6.07222289, 17.86154117, 36.081706  , 60.8399066 ])"
            ]
          },
          "metadata": {
            "tags": []
          },
          "execution_count": 55
        }
      ]
    },
    {
      "cell_type": "code",
      "metadata": {
        "colab": {
          "base_uri": "https://localhost:8080/"
        },
        "id": "rdWK-UTG51rS",
        "outputId": "adc2bd82-e153-48ce-9a8b-fa6eefab4cc7"
      },
      "source": [
        "theta"
      ],
      "execution_count": null,
      "outputs": [
        {
          "output_type": "execute_result",
          "data": {
            "text/plain": [
              "array([[-1.16949512e-06, -2.43374817e-06, -8.26818958e-06],\n",
              "       [-7.08228335e-06, -4.41283896e-08,  1.17235444e-05],\n",
              "       [-1.71761477e-05,  2.24051084e-05, -5.28471200e-07],\n",
              "       [-2.69352496e-05,  2.34518894e-05, -6.46442058e-05],\n",
              "       [-3.27058515e-05, -4.47388667e-05,  9.97090494e-05]])"
            ]
          },
          "metadata": {
            "tags": []
          },
          "execution_count": 56
        }
      ]
    },
    {
      "cell_type": "code",
      "metadata": {
        "id": "qIRzYMFhyLL3"
      },
      "source": [
        ""
      ],
      "execution_count": null,
      "outputs": []
    }
  ]
}